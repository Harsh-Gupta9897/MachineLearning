{
  "nbformat": 4,
  "nbformat_minor": 0,
  "metadata": {
    "kernelspec": {
      "display_name": "Python 3",
      "language": "python",
      "name": "python3"
    },
    "language_info": {
      "codemirror_mode": {
        "name": "ipython",
        "version": 3
      },
      "file_extension": ".py",
      "mimetype": "text/x-python",
      "name": "python",
      "nbconvert_exporter": "python",
      "pygments_lexer": "ipython3",
      "version": "3.7.4"
    },
    "colab": {
      "name": "Untitled1.ipynb",
      "provenance": [],
      "include_colab_link": true
    },
    "widgets": {
      "application/vnd.jupyter.widget-state+json": {
        "2f39834e36c9412480d8f7864cd09814": {
          "model_module": "@jupyter-widgets/controls",
          "model_name": "HBoxModel",
          "state": {
            "_view_name": "HBoxView",
            "_dom_classes": [],
            "_model_name": "HBoxModel",
            "_view_module": "@jupyter-widgets/controls",
            "_model_module_version": "1.5.0",
            "_view_count": null,
            "_view_module_version": "1.5.0",
            "box_style": "",
            "layout": "IPY_MODEL_290f8aab4bc24395b3a319eb099e9cfa",
            "_model_module": "@jupyter-widgets/controls",
            "children": [
              "IPY_MODEL_8591c54b89fd4c429cb75579caa2eca9",
              "IPY_MODEL_89b5db87f8f64d6280ca22406a7a14b4"
            ]
          }
        },
        "290f8aab4bc24395b3a319eb099e9cfa": {
          "model_module": "@jupyter-widgets/base",
          "model_name": "LayoutModel",
          "state": {
            "_view_name": "LayoutView",
            "grid_template_rows": null,
            "right": null,
            "justify_content": null,
            "_view_module": "@jupyter-widgets/base",
            "overflow": null,
            "_model_module_version": "1.2.0",
            "_view_count": null,
            "flex_flow": null,
            "width": null,
            "min_width": null,
            "border": null,
            "align_items": null,
            "bottom": null,
            "_model_module": "@jupyter-widgets/base",
            "top": null,
            "grid_column": null,
            "overflow_y": null,
            "overflow_x": null,
            "grid_auto_flow": null,
            "grid_area": null,
            "grid_template_columns": null,
            "flex": null,
            "_model_name": "LayoutModel",
            "justify_items": null,
            "grid_row": null,
            "max_height": null,
            "align_content": null,
            "visibility": null,
            "align_self": null,
            "height": null,
            "min_height": null,
            "padding": null,
            "grid_auto_rows": null,
            "grid_gap": null,
            "max_width": null,
            "order": null,
            "_view_module_version": "1.2.0",
            "grid_template_areas": null,
            "object_position": null,
            "object_fit": null,
            "grid_auto_columns": null,
            "margin": null,
            "display": null,
            "left": null
          }
        },
        "8591c54b89fd4c429cb75579caa2eca9": {
          "model_module": "@jupyter-widgets/controls",
          "model_name": "FloatProgressModel",
          "state": {
            "_view_name": "ProgressView",
            "style": "IPY_MODEL_0b58b4e08a294ea38769313346f582bf",
            "_dom_classes": [],
            "description": "",
            "_model_name": "FloatProgressModel",
            "bar_style": "info",
            "max": 1,
            "_view_module": "@jupyter-widgets/controls",
            "_model_module_version": "1.5.0",
            "value": 1,
            "_view_count": null,
            "_view_module_version": "1.5.0",
            "orientation": "horizontal",
            "min": 0,
            "description_tooltip": null,
            "_model_module": "@jupyter-widgets/controls",
            "layout": "IPY_MODEL_458526e52d4c4600a75c1d1312a8afe6"
          }
        },
        "89b5db87f8f64d6280ca22406a7a14b4": {
          "model_module": "@jupyter-widgets/controls",
          "model_name": "HTMLModel",
          "state": {
            "_view_name": "HTMLView",
            "style": "IPY_MODEL_094d550c57674a0382fe3792f3fd15cc",
            "_dom_classes": [],
            "description": "",
            "_model_name": "HTMLModel",
            "placeholder": "​",
            "_view_module": "@jupyter-widgets/controls",
            "_model_module_version": "1.5.0",
            "value": " 9920512/? [00:20&lt;00:00, 14927065.10it/s]",
            "_view_count": null,
            "_view_module_version": "1.5.0",
            "description_tooltip": null,
            "_model_module": "@jupyter-widgets/controls",
            "layout": "IPY_MODEL_c1005449afbd4c5c8caf9bb491df5cab"
          }
        },
        "0b58b4e08a294ea38769313346f582bf": {
          "model_module": "@jupyter-widgets/controls",
          "model_name": "ProgressStyleModel",
          "state": {
            "_view_name": "StyleView",
            "_model_name": "ProgressStyleModel",
            "description_width": "initial",
            "_view_module": "@jupyter-widgets/base",
            "_model_module_version": "1.5.0",
            "_view_count": null,
            "_view_module_version": "1.2.0",
            "bar_color": null,
            "_model_module": "@jupyter-widgets/controls"
          }
        },
        "458526e52d4c4600a75c1d1312a8afe6": {
          "model_module": "@jupyter-widgets/base",
          "model_name": "LayoutModel",
          "state": {
            "_view_name": "LayoutView",
            "grid_template_rows": null,
            "right": null,
            "justify_content": null,
            "_view_module": "@jupyter-widgets/base",
            "overflow": null,
            "_model_module_version": "1.2.0",
            "_view_count": null,
            "flex_flow": null,
            "width": null,
            "min_width": null,
            "border": null,
            "align_items": null,
            "bottom": null,
            "_model_module": "@jupyter-widgets/base",
            "top": null,
            "grid_column": null,
            "overflow_y": null,
            "overflow_x": null,
            "grid_auto_flow": null,
            "grid_area": null,
            "grid_template_columns": null,
            "flex": null,
            "_model_name": "LayoutModel",
            "justify_items": null,
            "grid_row": null,
            "max_height": null,
            "align_content": null,
            "visibility": null,
            "align_self": null,
            "height": null,
            "min_height": null,
            "padding": null,
            "grid_auto_rows": null,
            "grid_gap": null,
            "max_width": null,
            "order": null,
            "_view_module_version": "1.2.0",
            "grid_template_areas": null,
            "object_position": null,
            "object_fit": null,
            "grid_auto_columns": null,
            "margin": null,
            "display": null,
            "left": null
          }
        },
        "094d550c57674a0382fe3792f3fd15cc": {
          "model_module": "@jupyter-widgets/controls",
          "model_name": "DescriptionStyleModel",
          "state": {
            "_view_name": "StyleView",
            "_model_name": "DescriptionStyleModel",
            "description_width": "",
            "_view_module": "@jupyter-widgets/base",
            "_model_module_version": "1.5.0",
            "_view_count": null,
            "_view_module_version": "1.2.0",
            "_model_module": "@jupyter-widgets/controls"
          }
        },
        "c1005449afbd4c5c8caf9bb491df5cab": {
          "model_module": "@jupyter-widgets/base",
          "model_name": "LayoutModel",
          "state": {
            "_view_name": "LayoutView",
            "grid_template_rows": null,
            "right": null,
            "justify_content": null,
            "_view_module": "@jupyter-widgets/base",
            "overflow": null,
            "_model_module_version": "1.2.0",
            "_view_count": null,
            "flex_flow": null,
            "width": null,
            "min_width": null,
            "border": null,
            "align_items": null,
            "bottom": null,
            "_model_module": "@jupyter-widgets/base",
            "top": null,
            "grid_column": null,
            "overflow_y": null,
            "overflow_x": null,
            "grid_auto_flow": null,
            "grid_area": null,
            "grid_template_columns": null,
            "flex": null,
            "_model_name": "LayoutModel",
            "justify_items": null,
            "grid_row": null,
            "max_height": null,
            "align_content": null,
            "visibility": null,
            "align_self": null,
            "height": null,
            "min_height": null,
            "padding": null,
            "grid_auto_rows": null,
            "grid_gap": null,
            "max_width": null,
            "order": null,
            "_view_module_version": "1.2.0",
            "grid_template_areas": null,
            "object_position": null,
            "object_fit": null,
            "grid_auto_columns": null,
            "margin": null,
            "display": null,
            "left": null
          }
        },
        "50bffcac6ce148dbacfbab0f15383c1b": {
          "model_module": "@jupyter-widgets/controls",
          "model_name": "HBoxModel",
          "state": {
            "_view_name": "HBoxView",
            "_dom_classes": [],
            "_model_name": "HBoxModel",
            "_view_module": "@jupyter-widgets/controls",
            "_model_module_version": "1.5.0",
            "_view_count": null,
            "_view_module_version": "1.5.0",
            "box_style": "",
            "layout": "IPY_MODEL_3bc688ff285b41d7ad5eae13d4cbc802",
            "_model_module": "@jupyter-widgets/controls",
            "children": [
              "IPY_MODEL_fd05019382f04008b8d0e2da6e6aaf07",
              "IPY_MODEL_88210fbbb08345d2bd86bedd4776cbc7"
            ]
          }
        },
        "3bc688ff285b41d7ad5eae13d4cbc802": {
          "model_module": "@jupyter-widgets/base",
          "model_name": "LayoutModel",
          "state": {
            "_view_name": "LayoutView",
            "grid_template_rows": null,
            "right": null,
            "justify_content": null,
            "_view_module": "@jupyter-widgets/base",
            "overflow": null,
            "_model_module_version": "1.2.0",
            "_view_count": null,
            "flex_flow": null,
            "width": null,
            "min_width": null,
            "border": null,
            "align_items": null,
            "bottom": null,
            "_model_module": "@jupyter-widgets/base",
            "top": null,
            "grid_column": null,
            "overflow_y": null,
            "overflow_x": null,
            "grid_auto_flow": null,
            "grid_area": null,
            "grid_template_columns": null,
            "flex": null,
            "_model_name": "LayoutModel",
            "justify_items": null,
            "grid_row": null,
            "max_height": null,
            "align_content": null,
            "visibility": null,
            "align_self": null,
            "height": null,
            "min_height": null,
            "padding": null,
            "grid_auto_rows": null,
            "grid_gap": null,
            "max_width": null,
            "order": null,
            "_view_module_version": "1.2.0",
            "grid_template_areas": null,
            "object_position": null,
            "object_fit": null,
            "grid_auto_columns": null,
            "margin": null,
            "display": null,
            "left": null
          }
        },
        "fd05019382f04008b8d0e2da6e6aaf07": {
          "model_module": "@jupyter-widgets/controls",
          "model_name": "FloatProgressModel",
          "state": {
            "_view_name": "ProgressView",
            "style": "IPY_MODEL_bba0110b35a3472f872640eb9a9bb14b",
            "_dom_classes": [],
            "description": "",
            "_model_name": "FloatProgressModel",
            "bar_style": "success",
            "max": 1,
            "_view_module": "@jupyter-widgets/controls",
            "_model_module_version": "1.5.0",
            "value": 1,
            "_view_count": null,
            "_view_module_version": "1.5.0",
            "orientation": "horizontal",
            "min": 0,
            "description_tooltip": null,
            "_model_module": "@jupyter-widgets/controls",
            "layout": "IPY_MODEL_b69493cbb8694371953c7b4feeee09d7"
          }
        },
        "88210fbbb08345d2bd86bedd4776cbc7": {
          "model_module": "@jupyter-widgets/controls",
          "model_name": "HTMLModel",
          "state": {
            "_view_name": "HTMLView",
            "style": "IPY_MODEL_a7687a4e80cd417c92590a90aaa237c8",
            "_dom_classes": [],
            "description": "",
            "_model_name": "HTMLModel",
            "placeholder": "​",
            "_view_module": "@jupyter-widgets/controls",
            "_model_module_version": "1.5.0",
            "value": " 32768/? [00:00&lt;00:00, 285620.67it/s]",
            "_view_count": null,
            "_view_module_version": "1.5.0",
            "description_tooltip": null,
            "_model_module": "@jupyter-widgets/controls",
            "layout": "IPY_MODEL_5ef704f384404b7eaf26da7510a0d7ab"
          }
        },
        "bba0110b35a3472f872640eb9a9bb14b": {
          "model_module": "@jupyter-widgets/controls",
          "model_name": "ProgressStyleModel",
          "state": {
            "_view_name": "StyleView",
            "_model_name": "ProgressStyleModel",
            "description_width": "initial",
            "_view_module": "@jupyter-widgets/base",
            "_model_module_version": "1.5.0",
            "_view_count": null,
            "_view_module_version": "1.2.0",
            "bar_color": null,
            "_model_module": "@jupyter-widgets/controls"
          }
        },
        "b69493cbb8694371953c7b4feeee09d7": {
          "model_module": "@jupyter-widgets/base",
          "model_name": "LayoutModel",
          "state": {
            "_view_name": "LayoutView",
            "grid_template_rows": null,
            "right": null,
            "justify_content": null,
            "_view_module": "@jupyter-widgets/base",
            "overflow": null,
            "_model_module_version": "1.2.0",
            "_view_count": null,
            "flex_flow": null,
            "width": null,
            "min_width": null,
            "border": null,
            "align_items": null,
            "bottom": null,
            "_model_module": "@jupyter-widgets/base",
            "top": null,
            "grid_column": null,
            "overflow_y": null,
            "overflow_x": null,
            "grid_auto_flow": null,
            "grid_area": null,
            "grid_template_columns": null,
            "flex": null,
            "_model_name": "LayoutModel",
            "justify_items": null,
            "grid_row": null,
            "max_height": null,
            "align_content": null,
            "visibility": null,
            "align_self": null,
            "height": null,
            "min_height": null,
            "padding": null,
            "grid_auto_rows": null,
            "grid_gap": null,
            "max_width": null,
            "order": null,
            "_view_module_version": "1.2.0",
            "grid_template_areas": null,
            "object_position": null,
            "object_fit": null,
            "grid_auto_columns": null,
            "margin": null,
            "display": null,
            "left": null
          }
        },
        "a7687a4e80cd417c92590a90aaa237c8": {
          "model_module": "@jupyter-widgets/controls",
          "model_name": "DescriptionStyleModel",
          "state": {
            "_view_name": "StyleView",
            "_model_name": "DescriptionStyleModel",
            "description_width": "",
            "_view_module": "@jupyter-widgets/base",
            "_model_module_version": "1.5.0",
            "_view_count": null,
            "_view_module_version": "1.2.0",
            "_model_module": "@jupyter-widgets/controls"
          }
        },
        "5ef704f384404b7eaf26da7510a0d7ab": {
          "model_module": "@jupyter-widgets/base",
          "model_name": "LayoutModel",
          "state": {
            "_view_name": "LayoutView",
            "grid_template_rows": null,
            "right": null,
            "justify_content": null,
            "_view_module": "@jupyter-widgets/base",
            "overflow": null,
            "_model_module_version": "1.2.0",
            "_view_count": null,
            "flex_flow": null,
            "width": null,
            "min_width": null,
            "border": null,
            "align_items": null,
            "bottom": null,
            "_model_module": "@jupyter-widgets/base",
            "top": null,
            "grid_column": null,
            "overflow_y": null,
            "overflow_x": null,
            "grid_auto_flow": null,
            "grid_area": null,
            "grid_template_columns": null,
            "flex": null,
            "_model_name": "LayoutModel",
            "justify_items": null,
            "grid_row": null,
            "max_height": null,
            "align_content": null,
            "visibility": null,
            "align_self": null,
            "height": null,
            "min_height": null,
            "padding": null,
            "grid_auto_rows": null,
            "grid_gap": null,
            "max_width": null,
            "order": null,
            "_view_module_version": "1.2.0",
            "grid_template_areas": null,
            "object_position": null,
            "object_fit": null,
            "grid_auto_columns": null,
            "margin": null,
            "display": null,
            "left": null
          }
        },
        "92fbd9d7a84d430490ba6e9d78ac0df7": {
          "model_module": "@jupyter-widgets/controls",
          "model_name": "HBoxModel",
          "state": {
            "_view_name": "HBoxView",
            "_dom_classes": [],
            "_model_name": "HBoxModel",
            "_view_module": "@jupyter-widgets/controls",
            "_model_module_version": "1.5.0",
            "_view_count": null,
            "_view_module_version": "1.5.0",
            "box_style": "",
            "layout": "IPY_MODEL_ab7fda22e2cb481498bf0a04aaa280dc",
            "_model_module": "@jupyter-widgets/controls",
            "children": [
              "IPY_MODEL_9360322460d043e5a2fe4029be91c0a2",
              "IPY_MODEL_adcd005930024293b0a0269087a31917"
            ]
          }
        },
        "ab7fda22e2cb481498bf0a04aaa280dc": {
          "model_module": "@jupyter-widgets/base",
          "model_name": "LayoutModel",
          "state": {
            "_view_name": "LayoutView",
            "grid_template_rows": null,
            "right": null,
            "justify_content": null,
            "_view_module": "@jupyter-widgets/base",
            "overflow": null,
            "_model_module_version": "1.2.0",
            "_view_count": null,
            "flex_flow": null,
            "width": null,
            "min_width": null,
            "border": null,
            "align_items": null,
            "bottom": null,
            "_model_module": "@jupyter-widgets/base",
            "top": null,
            "grid_column": null,
            "overflow_y": null,
            "overflow_x": null,
            "grid_auto_flow": null,
            "grid_area": null,
            "grid_template_columns": null,
            "flex": null,
            "_model_name": "LayoutModel",
            "justify_items": null,
            "grid_row": null,
            "max_height": null,
            "align_content": null,
            "visibility": null,
            "align_self": null,
            "height": null,
            "min_height": null,
            "padding": null,
            "grid_auto_rows": null,
            "grid_gap": null,
            "max_width": null,
            "order": null,
            "_view_module_version": "1.2.0",
            "grid_template_areas": null,
            "object_position": null,
            "object_fit": null,
            "grid_auto_columns": null,
            "margin": null,
            "display": null,
            "left": null
          }
        },
        "9360322460d043e5a2fe4029be91c0a2": {
          "model_module": "@jupyter-widgets/controls",
          "model_name": "FloatProgressModel",
          "state": {
            "_view_name": "ProgressView",
            "style": "IPY_MODEL_2331d30397644548961e0e842671ce25",
            "_dom_classes": [],
            "description": "",
            "_model_name": "FloatProgressModel",
            "bar_style": "success",
            "max": 1,
            "_view_module": "@jupyter-widgets/controls",
            "_model_module_version": "1.5.0",
            "value": 1,
            "_view_count": null,
            "_view_module_version": "1.5.0",
            "orientation": "horizontal",
            "min": 0,
            "description_tooltip": null,
            "_model_module": "@jupyter-widgets/controls",
            "layout": "IPY_MODEL_89f636a16d0e488b9573bb1d49b5d84e"
          }
        },
        "adcd005930024293b0a0269087a31917": {
          "model_module": "@jupyter-widgets/controls",
          "model_name": "HTMLModel",
          "state": {
            "_view_name": "HTMLView",
            "style": "IPY_MODEL_ccd9c3d8a83948eaaf7d2f213cad2677",
            "_dom_classes": [],
            "description": "",
            "_model_name": "HTMLModel",
            "placeholder": "​",
            "_view_module": "@jupyter-widgets/controls",
            "_model_module_version": "1.5.0",
            "value": " 1654784/? [00:00&lt;00:00, 1998265.98it/s]",
            "_view_count": null,
            "_view_module_version": "1.5.0",
            "description_tooltip": null,
            "_model_module": "@jupyter-widgets/controls",
            "layout": "IPY_MODEL_0671b9187bfb4e6fbc67a127011c194d"
          }
        },
        "2331d30397644548961e0e842671ce25": {
          "model_module": "@jupyter-widgets/controls",
          "model_name": "ProgressStyleModel",
          "state": {
            "_view_name": "StyleView",
            "_model_name": "ProgressStyleModel",
            "description_width": "initial",
            "_view_module": "@jupyter-widgets/base",
            "_model_module_version": "1.5.0",
            "_view_count": null,
            "_view_module_version": "1.2.0",
            "bar_color": null,
            "_model_module": "@jupyter-widgets/controls"
          }
        },
        "89f636a16d0e488b9573bb1d49b5d84e": {
          "model_module": "@jupyter-widgets/base",
          "model_name": "LayoutModel",
          "state": {
            "_view_name": "LayoutView",
            "grid_template_rows": null,
            "right": null,
            "justify_content": null,
            "_view_module": "@jupyter-widgets/base",
            "overflow": null,
            "_model_module_version": "1.2.0",
            "_view_count": null,
            "flex_flow": null,
            "width": null,
            "min_width": null,
            "border": null,
            "align_items": null,
            "bottom": null,
            "_model_module": "@jupyter-widgets/base",
            "top": null,
            "grid_column": null,
            "overflow_y": null,
            "overflow_x": null,
            "grid_auto_flow": null,
            "grid_area": null,
            "grid_template_columns": null,
            "flex": null,
            "_model_name": "LayoutModel",
            "justify_items": null,
            "grid_row": null,
            "max_height": null,
            "align_content": null,
            "visibility": null,
            "align_self": null,
            "height": null,
            "min_height": null,
            "padding": null,
            "grid_auto_rows": null,
            "grid_gap": null,
            "max_width": null,
            "order": null,
            "_view_module_version": "1.2.0",
            "grid_template_areas": null,
            "object_position": null,
            "object_fit": null,
            "grid_auto_columns": null,
            "margin": null,
            "display": null,
            "left": null
          }
        },
        "ccd9c3d8a83948eaaf7d2f213cad2677": {
          "model_module": "@jupyter-widgets/controls",
          "model_name": "DescriptionStyleModel",
          "state": {
            "_view_name": "StyleView",
            "_model_name": "DescriptionStyleModel",
            "description_width": "",
            "_view_module": "@jupyter-widgets/base",
            "_model_module_version": "1.5.0",
            "_view_count": null,
            "_view_module_version": "1.2.0",
            "_model_module": "@jupyter-widgets/controls"
          }
        },
        "0671b9187bfb4e6fbc67a127011c194d": {
          "model_module": "@jupyter-widgets/base",
          "model_name": "LayoutModel",
          "state": {
            "_view_name": "LayoutView",
            "grid_template_rows": null,
            "right": null,
            "justify_content": null,
            "_view_module": "@jupyter-widgets/base",
            "overflow": null,
            "_model_module_version": "1.2.0",
            "_view_count": null,
            "flex_flow": null,
            "width": null,
            "min_width": null,
            "border": null,
            "align_items": null,
            "bottom": null,
            "_model_module": "@jupyter-widgets/base",
            "top": null,
            "grid_column": null,
            "overflow_y": null,
            "overflow_x": null,
            "grid_auto_flow": null,
            "grid_area": null,
            "grid_template_columns": null,
            "flex": null,
            "_model_name": "LayoutModel",
            "justify_items": null,
            "grid_row": null,
            "max_height": null,
            "align_content": null,
            "visibility": null,
            "align_self": null,
            "height": null,
            "min_height": null,
            "padding": null,
            "grid_auto_rows": null,
            "grid_gap": null,
            "max_width": null,
            "order": null,
            "_view_module_version": "1.2.0",
            "grid_template_areas": null,
            "object_position": null,
            "object_fit": null,
            "grid_auto_columns": null,
            "margin": null,
            "display": null,
            "left": null
          }
        },
        "814cd224804f40d89b82c64674349d98": {
          "model_module": "@jupyter-widgets/controls",
          "model_name": "HBoxModel",
          "state": {
            "_view_name": "HBoxView",
            "_dom_classes": [],
            "_model_name": "HBoxModel",
            "_view_module": "@jupyter-widgets/controls",
            "_model_module_version": "1.5.0",
            "_view_count": null,
            "_view_module_version": "1.5.0",
            "box_style": "",
            "layout": "IPY_MODEL_9630d5b7316a4bd6828f20d0785e45e5",
            "_model_module": "@jupyter-widgets/controls",
            "children": [
              "IPY_MODEL_8b9cf77ac9b840e581436852a370b8df",
              "IPY_MODEL_26b167a3a5474fcf899cfad01ff5d48a"
            ]
          }
        },
        "9630d5b7316a4bd6828f20d0785e45e5": {
          "model_module": "@jupyter-widgets/base",
          "model_name": "LayoutModel",
          "state": {
            "_view_name": "LayoutView",
            "grid_template_rows": null,
            "right": null,
            "justify_content": null,
            "_view_module": "@jupyter-widgets/base",
            "overflow": null,
            "_model_module_version": "1.2.0",
            "_view_count": null,
            "flex_flow": null,
            "width": null,
            "min_width": null,
            "border": null,
            "align_items": null,
            "bottom": null,
            "_model_module": "@jupyter-widgets/base",
            "top": null,
            "grid_column": null,
            "overflow_y": null,
            "overflow_x": null,
            "grid_auto_flow": null,
            "grid_area": null,
            "grid_template_columns": null,
            "flex": null,
            "_model_name": "LayoutModel",
            "justify_items": null,
            "grid_row": null,
            "max_height": null,
            "align_content": null,
            "visibility": null,
            "align_self": null,
            "height": null,
            "min_height": null,
            "padding": null,
            "grid_auto_rows": null,
            "grid_gap": null,
            "max_width": null,
            "order": null,
            "_view_module_version": "1.2.0",
            "grid_template_areas": null,
            "object_position": null,
            "object_fit": null,
            "grid_auto_columns": null,
            "margin": null,
            "display": null,
            "left": null
          }
        },
        "8b9cf77ac9b840e581436852a370b8df": {
          "model_module": "@jupyter-widgets/controls",
          "model_name": "FloatProgressModel",
          "state": {
            "_view_name": "ProgressView",
            "style": "IPY_MODEL_be123fef5dfa470d9de8d2f47cb19f76",
            "_dom_classes": [],
            "description": "",
            "_model_name": "FloatProgressModel",
            "bar_style": "success",
            "max": 1,
            "_view_module": "@jupyter-widgets/controls",
            "_model_module_version": "1.5.0",
            "value": 1,
            "_view_count": null,
            "_view_module_version": "1.5.0",
            "orientation": "horizontal",
            "min": 0,
            "description_tooltip": null,
            "_model_module": "@jupyter-widgets/controls",
            "layout": "IPY_MODEL_608de39cbd2c4feea594865485813021"
          }
        },
        "26b167a3a5474fcf899cfad01ff5d48a": {
          "model_module": "@jupyter-widgets/controls",
          "model_name": "HTMLModel",
          "state": {
            "_view_name": "HTMLView",
            "style": "IPY_MODEL_566d7840d3bf469ba9cf7b60b482b2d3",
            "_dom_classes": [],
            "description": "",
            "_model_name": "HTMLModel",
            "placeholder": "​",
            "_view_module": "@jupyter-widgets/controls",
            "_model_module_version": "1.5.0",
            "value": " 8192/? [00:00&lt;00:00, 24555.51it/s]",
            "_view_count": null,
            "_view_module_version": "1.5.0",
            "description_tooltip": null,
            "_model_module": "@jupyter-widgets/controls",
            "layout": "IPY_MODEL_afe37f4708174d10928e6a3cd4de83e1"
          }
        },
        "be123fef5dfa470d9de8d2f47cb19f76": {
          "model_module": "@jupyter-widgets/controls",
          "model_name": "ProgressStyleModel",
          "state": {
            "_view_name": "StyleView",
            "_model_name": "ProgressStyleModel",
            "description_width": "initial",
            "_view_module": "@jupyter-widgets/base",
            "_model_module_version": "1.5.0",
            "_view_count": null,
            "_view_module_version": "1.2.0",
            "bar_color": null,
            "_model_module": "@jupyter-widgets/controls"
          }
        },
        "608de39cbd2c4feea594865485813021": {
          "model_module": "@jupyter-widgets/base",
          "model_name": "LayoutModel",
          "state": {
            "_view_name": "LayoutView",
            "grid_template_rows": null,
            "right": null,
            "justify_content": null,
            "_view_module": "@jupyter-widgets/base",
            "overflow": null,
            "_model_module_version": "1.2.0",
            "_view_count": null,
            "flex_flow": null,
            "width": null,
            "min_width": null,
            "border": null,
            "align_items": null,
            "bottom": null,
            "_model_module": "@jupyter-widgets/base",
            "top": null,
            "grid_column": null,
            "overflow_y": null,
            "overflow_x": null,
            "grid_auto_flow": null,
            "grid_area": null,
            "grid_template_columns": null,
            "flex": null,
            "_model_name": "LayoutModel",
            "justify_items": null,
            "grid_row": null,
            "max_height": null,
            "align_content": null,
            "visibility": null,
            "align_self": null,
            "height": null,
            "min_height": null,
            "padding": null,
            "grid_auto_rows": null,
            "grid_gap": null,
            "max_width": null,
            "order": null,
            "_view_module_version": "1.2.0",
            "grid_template_areas": null,
            "object_position": null,
            "object_fit": null,
            "grid_auto_columns": null,
            "margin": null,
            "display": null,
            "left": null
          }
        },
        "566d7840d3bf469ba9cf7b60b482b2d3": {
          "model_module": "@jupyter-widgets/controls",
          "model_name": "DescriptionStyleModel",
          "state": {
            "_view_name": "StyleView",
            "_model_name": "DescriptionStyleModel",
            "description_width": "",
            "_view_module": "@jupyter-widgets/base",
            "_model_module_version": "1.5.0",
            "_view_count": null,
            "_view_module_version": "1.2.0",
            "_model_module": "@jupyter-widgets/controls"
          }
        },
        "afe37f4708174d10928e6a3cd4de83e1": {
          "model_module": "@jupyter-widgets/base",
          "model_name": "LayoutModel",
          "state": {
            "_view_name": "LayoutView",
            "grid_template_rows": null,
            "right": null,
            "justify_content": null,
            "_view_module": "@jupyter-widgets/base",
            "overflow": null,
            "_model_module_version": "1.2.0",
            "_view_count": null,
            "flex_flow": null,
            "width": null,
            "min_width": null,
            "border": null,
            "align_items": null,
            "bottom": null,
            "_model_module": "@jupyter-widgets/base",
            "top": null,
            "grid_column": null,
            "overflow_y": null,
            "overflow_x": null,
            "grid_auto_flow": null,
            "grid_area": null,
            "grid_template_columns": null,
            "flex": null,
            "_model_name": "LayoutModel",
            "justify_items": null,
            "grid_row": null,
            "max_height": null,
            "align_content": null,
            "visibility": null,
            "align_self": null,
            "height": null,
            "min_height": null,
            "padding": null,
            "grid_auto_rows": null,
            "grid_gap": null,
            "max_width": null,
            "order": null,
            "_view_module_version": "1.2.0",
            "grid_template_areas": null,
            "object_position": null,
            "object_fit": null,
            "grid_auto_columns": null,
            "margin": null,
            "display": null,
            "left": null
          }
        }
      }
    }
  },
  "cells": [
    {
      "cell_type": "markdown",
      "metadata": {
        "id": "view-in-github",
        "colab_type": "text"
      },
      "source": [
        "<a href=\"https://colab.research.google.com/github/Harsh-Gupta9897/MachineLearning/blob/master/Hand_Digit_Recognition.ipynb\" target=\"_parent\"><img src=\"https://colab.research.google.com/assets/colab-badge.svg\" alt=\"Open In Colab\"/></a>"
      ]
    },
    {
      "cell_type": "markdown",
      "metadata": {
        "id": "I2ST7OvSXdZq",
        "colab_type": "text"
      },
      "source": [
        "# Hand Written digit recognition"
      ]
    },
    {
      "cell_type": "code",
      "metadata": {
        "id": "bYTEE28sXdZt",
        "colab_type": "code",
        "colab": {}
      },
      "source": [
        "import torch \n",
        "import torchvision\n",
        "from torchvision.datasets import MNIST\n",
        "import matplotlib.pyplot as plt\n",
        "%matplotlib inline\n",
        "import torch.nn as nn\n",
        "import torch.nn.functional as F"
      ],
      "execution_count": 0,
      "outputs": []
    },
    {
      "cell_type": "code",
      "metadata": {
        "id": "PnlQCqp_XdZ0",
        "colab_type": "code",
        "outputId": "398d68d6-a483-41ec-f4eb-36c9d1c94cb0",
        "colab": {
          "base_uri": "https://localhost:8080/",
          "height": 366,
          "referenced_widgets": [
            "2f39834e36c9412480d8f7864cd09814",
            "290f8aab4bc24395b3a319eb099e9cfa",
            "8591c54b89fd4c429cb75579caa2eca9",
            "89b5db87f8f64d6280ca22406a7a14b4",
            "0b58b4e08a294ea38769313346f582bf",
            "458526e52d4c4600a75c1d1312a8afe6",
            "094d550c57674a0382fe3792f3fd15cc",
            "c1005449afbd4c5c8caf9bb491df5cab",
            "50bffcac6ce148dbacfbab0f15383c1b",
            "3bc688ff285b41d7ad5eae13d4cbc802",
            "fd05019382f04008b8d0e2da6e6aaf07",
            "88210fbbb08345d2bd86bedd4776cbc7",
            "bba0110b35a3472f872640eb9a9bb14b",
            "b69493cbb8694371953c7b4feeee09d7",
            "a7687a4e80cd417c92590a90aaa237c8",
            "5ef704f384404b7eaf26da7510a0d7ab",
            "92fbd9d7a84d430490ba6e9d78ac0df7",
            "ab7fda22e2cb481498bf0a04aaa280dc",
            "9360322460d043e5a2fe4029be91c0a2",
            "adcd005930024293b0a0269087a31917",
            "2331d30397644548961e0e842671ce25",
            "89f636a16d0e488b9573bb1d49b5d84e",
            "ccd9c3d8a83948eaaf7d2f213cad2677",
            "0671b9187bfb4e6fbc67a127011c194d",
            "814cd224804f40d89b82c64674349d98",
            "9630d5b7316a4bd6828f20d0785e45e5",
            "8b9cf77ac9b840e581436852a370b8df",
            "26b167a3a5474fcf899cfad01ff5d48a",
            "be123fef5dfa470d9de8d2f47cb19f76",
            "608de39cbd2c4feea594865485813021",
            "566d7840d3bf469ba9cf7b60b482b2d3",
            "afe37f4708174d10928e6a3cd4de83e1"
          ]
        }
      },
      "source": [
        "dataset = MNIST(root='data/',download=True)"
      ],
      "execution_count": 0,
      "outputs": [
        {
          "output_type": "stream",
          "text": [
            "Downloading http://yann.lecun.com/exdb/mnist/train-images-idx3-ubyte.gz to data/MNIST/raw/train-images-idx3-ubyte.gz\n"
          ],
          "name": "stdout"
        },
        {
          "output_type": "display_data",
          "data": {
            "application/vnd.jupyter.widget-view+json": {
              "model_id": "2f39834e36c9412480d8f7864cd09814",
              "version_minor": 0,
              "version_major": 2
            },
            "text/plain": [
              "HBox(children=(FloatProgress(value=1.0, bar_style='info', max=1.0), HTML(value='')))"
            ]
          },
          "metadata": {
            "tags": []
          }
        },
        {
          "output_type": "stream",
          "text": [
            "Extracting data/MNIST/raw/train-images-idx3-ubyte.gz to data/MNIST/raw\n",
            "Downloading http://yann.lecun.com/exdb/mnist/train-labels-idx1-ubyte.gz to data/MNIST/raw/train-labels-idx1-ubyte.gz\n"
          ],
          "name": "stdout"
        },
        {
          "output_type": "display_data",
          "data": {
            "application/vnd.jupyter.widget-view+json": {
              "model_id": "50bffcac6ce148dbacfbab0f15383c1b",
              "version_minor": 0,
              "version_major": 2
            },
            "text/plain": [
              "HBox(children=(FloatProgress(value=1.0, bar_style='info', max=1.0), HTML(value='')))"
            ]
          },
          "metadata": {
            "tags": []
          }
        },
        {
          "output_type": "stream",
          "text": [
            "Extracting data/MNIST/raw/train-labels-idx1-ubyte.gz to data/MNIST/raw\n",
            "Downloading http://yann.lecun.com/exdb/mnist/t10k-images-idx3-ubyte.gz to data/MNIST/raw/t10k-images-idx3-ubyte.gz\n",
            "\n"
          ],
          "name": "stdout"
        },
        {
          "output_type": "display_data",
          "data": {
            "application/vnd.jupyter.widget-view+json": {
              "model_id": "92fbd9d7a84d430490ba6e9d78ac0df7",
              "version_minor": 0,
              "version_major": 2
            },
            "text/plain": [
              "HBox(children=(FloatProgress(value=1.0, bar_style='info', max=1.0), HTML(value='')))"
            ]
          },
          "metadata": {
            "tags": []
          }
        },
        {
          "output_type": "stream",
          "text": [
            "Extracting data/MNIST/raw/t10k-images-idx3-ubyte.gz to data/MNIST/raw\n",
            "Downloading http://yann.lecun.com/exdb/mnist/t10k-labels-idx1-ubyte.gz to data/MNIST/raw/t10k-labels-idx1-ubyte.gz\n"
          ],
          "name": "stdout"
        },
        {
          "output_type": "display_data",
          "data": {
            "application/vnd.jupyter.widget-view+json": {
              "model_id": "814cd224804f40d89b82c64674349d98",
              "version_minor": 0,
              "version_major": 2
            },
            "text/plain": [
              "HBox(children=(FloatProgress(value=1.0, bar_style='info', max=1.0), HTML(value='')))"
            ]
          },
          "metadata": {
            "tags": []
          }
        },
        {
          "output_type": "stream",
          "text": [
            "Extracting data/MNIST/raw/t10k-labels-idx1-ubyte.gz to data/MNIST/raw\n",
            "Processing...\n",
            "Done!\n"
          ],
          "name": "stdout"
        },
        {
          "output_type": "stream",
          "text": [
            "/pytorch/torch/csrc/utils/tensor_numpy.cpp:141: UserWarning: The given NumPy array is not writeable, and PyTorch does not support non-writeable tensors. This means you can write to the underlying (supposedly non-writeable) NumPy array using the tensor. You may want to copy the array to protect its data or make it writeable before converting it to a tensor. This type of warning will be suppressed for the rest of this program.\n"
          ],
          "name": "stderr"
        }
      ]
    },
    {
      "cell_type": "code",
      "metadata": {
        "id": "sy583f_mXdZ6",
        "colab_type": "code",
        "outputId": "1594b555-f1d0-4902-b684-3d76af8a67be",
        "colab": {
          "base_uri": "https://localhost:8080/",
          "height": 34
        }
      },
      "source": [
        "len(dataset)"
      ],
      "execution_count": 0,
      "outputs": [
        {
          "output_type": "execute_result",
          "data": {
            "text/plain": [
              "60000"
            ]
          },
          "metadata": {
            "tags": []
          },
          "execution_count": 3
        }
      ]
    },
    {
      "cell_type": "code",
      "metadata": {
        "id": "_4hzh8LVXdaA",
        "colab_type": "code",
        "outputId": "ff5fa8da-9fd2-42a8-e534-2c973ca01398",
        "colab": {
          "base_uri": "https://localhost:8080/",
          "height": 34
        }
      },
      "source": [
        "dataset[4][1]"
      ],
      "execution_count": 0,
      "outputs": [
        {
          "output_type": "execute_result",
          "data": {
            "text/plain": [
              "9"
            ]
          },
          "metadata": {
            "tags": []
          },
          "execution_count": 4
        }
      ]
    },
    {
      "cell_type": "code",
      "metadata": {
        "id": "ITO_bMowXdaJ",
        "colab_type": "code",
        "outputId": "6a98070e-08e5-4219-9e66-016324bf7b2d",
        "colab": {
          "base_uri": "https://localhost:8080/",
          "height": 315
        }
      },
      "source": [
        "plt.imshow(dataset[4][0])"
      ],
      "execution_count": 0,
      "outputs": [
        {
          "output_type": "stream",
          "text": [
            "\n"
          ],
          "name": "stdout"
        },
        {
          "output_type": "execute_result",
          "data": {
            "text/plain": [
              "<matplotlib.image.AxesImage at 0x7f7fdc4dae48>"
            ]
          },
          "metadata": {
            "tags": []
          },
          "execution_count": 5
        },
        {
          "output_type": "display_data",
          "data": {
            "image/png": "[encoded data removed]",
            "text/plain": [
              "<Figure size 432x288 with 1 Axes>"
            ]
          },
          "metadata": {
            "tags": [],
            "needs_background": "light"
          }
        },
        {
          "output_type": "stream",
          "text": [
            "\n"
          ],
          "name": "stdout"
        }
      ]
    },
    {
      "cell_type": "code",
      "metadata": {
        "id": "OYW2pfkVXdaP",
        "colab_type": "code",
        "colab": {}
      },
      "source": [
        "test_dataset = MNIST(root='data/',train=False)"
      ],
      "execution_count": 0,
      "outputs": []
    },
    {
      "cell_type": "code",
      "metadata": {
        "id": "vK--poguXdaU",
        "colab_type": "code",
        "outputId": "887d314b-7e06-4a65-cb3c-88ea6b66f32b",
        "colab": {
          "base_uri": "https://localhost:8080/",
          "height": 34
        }
      },
      "source": [
        "len(test_dataset)"
      ],
      "execution_count": 0,
      "outputs": [
        {
          "output_type": "execute_result",
          "data": {
            "text/plain": [
              "10000"
            ]
          },
          "metadata": {
            "tags": []
          },
          "execution_count": 7
        }
      ]
    },
    {
      "cell_type": "code",
      "metadata": {
        "id": "xAAe03leXdad",
        "colab_type": "code",
        "outputId": "5152a817-d765-48b3-ddba-3969724543af",
        "colab": {
          "base_uri": "https://localhost:8080/",
          "height": 282
        }
      },
      "source": [
        "image, label = dataset[0]\n",
        "plt.imshow(image)\n",
        "print('Label:',label)"
      ],
      "execution_count": 0,
      "outputs": [
        {
          "output_type": "stream",
          "text": [
            "Label: 5\n"
          ],
          "name": "stdout"
        },
        {
          "output_type": "display_data",
          "data": {
            "image/png": "[encoded data removed]",
            "text/plain": [
              "<Figure size 432x288 with 1 Axes>"
            ]
          },
          "metadata": {
            "tags": [],
            "needs_background": "light"
          }
        }
      ]
    },
    {
      "cell_type": "code",
      "metadata": {
        "id": "cmbEG8qFXdai",
        "colab_type": "code",
        "colab": {}
      },
      "source": [
        "import torchvision.transforms as transforms"
      ],
      "execution_count": 0,
      "outputs": []
    },
    {
      "cell_type": "code",
      "metadata": {
        "id": "CijZ74zaXdan",
        "colab_type": "code",
        "colab": {}
      },
      "source": [
        "dataset = MNIST(root='data/',transform = transforms.ToTensor())"
      ],
      "execution_count": 0,
      "outputs": []
    },
    {
      "cell_type": "code",
      "metadata": {
        "id": "kyJ4al4NXdas",
        "colab_type": "code",
        "colab": {}
      },
      "source": [
        "image_tensor ,label = dataset[0]"
      ],
      "execution_count": 0,
      "outputs": []
    },
    {
      "cell_type": "code",
      "metadata": {
        "id": "gsN1znXsXday",
        "colab_type": "code",
        "outputId": "ae4041c4-632c-4732-ad2a-3319cecff278",
        "colab": {
          "base_uri": "https://localhost:8080/",
          "height": 34
        }
      },
      "source": [
        "print(image_tensor.shape)"
      ],
      "execution_count": 0,
      "outputs": [
        {
          "output_type": "stream",
          "text": [
            "torch.Size([1, 28, 28])\n"
          ],
          "name": "stdout"
        }
      ]
    },
    {
      "cell_type": "code",
      "metadata": {
        "id": "krwFZEQuXda5",
        "colab_type": "code",
        "outputId": "46c6df3a-4050-4424-c923-d4c24324906a",
        "colab": {
          "base_uri": "https://localhost:8080/",
          "height": 370
        }
      },
      "source": [
        "print(image_tensor[:,10:20,10:20])\n",
        "print(torch.max(image_tensor))"
      ],
      "execution_count": 0,
      "outputs": [
        {
          "output_type": "stream",
          "text": [
            "tensor([[[0.0039, 0.6039, 0.9922, 0.3529, 0.0000, 0.0000, 0.0000, 0.0000,\n",
            "          0.0000, 0.0000],\n",
            "         [0.0000, 0.5451, 0.9922, 0.7451, 0.0078, 0.0000, 0.0000, 0.0000,\n",
            "          0.0000, 0.0000],\n",
            "         [0.0000, 0.0431, 0.7451, 0.9922, 0.2745, 0.0000, 0.0000, 0.0000,\n",
            "          0.0000, 0.0000],\n",
            "         [0.0000, 0.0000, 0.1373, 0.9451, 0.8824, 0.6275, 0.4235, 0.0039,\n",
            "          0.0000, 0.0000],\n",
            "         [0.0000, 0.0000, 0.0000, 0.3176, 0.9412, 0.9922, 0.9922, 0.4667,\n",
            "          0.0980, 0.0000],\n",
            "         [0.0000, 0.0000, 0.0000, 0.0000, 0.1765, 0.7294, 0.9922, 0.9922,\n",
            "          0.5882, 0.1059],\n",
            "         [0.0000, 0.0000, 0.0000, 0.0000, 0.0000, 0.0627, 0.3647, 0.9882,\n",
            "          0.9922, 0.7333],\n",
            "         [0.0000, 0.0000, 0.0000, 0.0000, 0.0000, 0.0000, 0.0000, 0.9765,\n",
            "          0.9922, 0.9765],\n",
            "         [0.0000, 0.0000, 0.0000, 0.0000, 0.1804, 0.5098, 0.7176, 0.9922,\n",
            "          0.9922, 0.8118],\n",
            "         [0.0000, 0.0000, 0.1529, 0.5804, 0.8980, 0.9922, 0.9922, 0.9922,\n",
            "          0.9804, 0.7137]]])\n",
            "tensor(1.)\n"
          ],
          "name": "stdout"
        }
      ]
    },
    {
      "cell_type": "code",
      "metadata": {
        "id": "UcgNpJdmXda_",
        "colab_type": "code",
        "outputId": "69d8fec2-3995-4918-e41a-485526178c25",
        "colab": {
          "base_uri": "https://localhost:8080/",
          "height": 282
        }
      },
      "source": [
        "plt.imshow(image_tensor[0,10:20,10:20],cmap='BrBG_r')"
      ],
      "execution_count": 0,
      "outputs": [
        {
          "output_type": "execute_result",
          "data": {
            "text/plain": [
              "<matplotlib.image.AxesImage at 0x7f7fdbf24390>"
            ]
          },
          "metadata": {
            "tags": []
          },
          "execution_count": 14
        },
        {
          "output_type": "display_data",
          "data": {
            "image/png": "[encoded data removed]",
            "text/plain": [
              "<Figure size 432x288 with 1 Axes>"
            ]
          },
          "metadata": {
            "tags": [],
            "needs_background": "light"
          }
        }
      ]
    },
    {
      "cell_type": "code",
      "metadata": {
        "id": "oEKV0S9oXdbH",
        "colab_type": "code",
        "colab": {}
      },
      "source": [
        "import numpy as np"
      ],
      "execution_count": 0,
      "outputs": []
    },
    {
      "cell_type": "code",
      "metadata": {
        "id": "55ZoAkwaXdbM",
        "colab_type": "code",
        "colab": {}
      },
      "source": [
        "def split_indices(n,val_pct):\n",
        "    n_val = int(val_pct*n)\n",
        "    idxs = np.random.permutation(n)\n",
        "    return idxs[n_val:] ,idxs[:n_val]\n",
        "    "
      ],
      "execution_count": 0,
      "outputs": []
    },
    {
      "cell_type": "code",
      "metadata": {
        "id": "M-CDjf3_XdbQ",
        "colab_type": "code",
        "outputId": "266959f4-9a4f-4bc3-e7fb-62b7ab3426f2",
        "colab": {
          "base_uri": "https://localhost:8080/",
          "height": 50
        }
      },
      "source": [
        "split_indices(60000,0.2)"
      ],
      "execution_count": 0,
      "outputs": [
        {
          "output_type": "execute_result",
          "data": {
            "text/plain": [
              "(array([49315, 43636,  2265, ..., 24609, 51564,  8239]),\n",
              " array([ 6953, 44343, 58419, ..., 30989, 13657, 13080]))"
            ]
          },
          "metadata": {
            "tags": []
          },
          "execution_count": 17
        }
      ]
    },
    {
      "cell_type": "code",
      "metadata": {
        "id": "QQRzyhZOXdbV",
        "colab_type": "code",
        "colab": {}
      },
      "source": [
        "train_indices ,val_indices = split_indices(len(dataset),0.2)"
      ],
      "execution_count": 0,
      "outputs": []
    },
    {
      "cell_type": "code",
      "metadata": {
        "id": "kblfrhGlXdbZ",
        "colab_type": "code",
        "outputId": "e108e2ac-5f19-44cc-9f32-24d10f594128",
        "colab": {
          "base_uri": "https://localhost:8080/",
          "height": 34
        }
      },
      "source": [
        "train_indices.shape"
      ],
      "execution_count": 0,
      "outputs": [
        {
          "output_type": "execute_result",
          "data": {
            "text/plain": [
              "(48000,)"
            ]
          },
          "metadata": {
            "tags": []
          },
          "execution_count": 19
        }
      ]
    },
    {
      "cell_type": "code",
      "metadata": {
        "id": "yRHqR8iTXdbd",
        "colab_type": "code",
        "colab": {}
      },
      "source": [
        "from torch.utils.data.sampler import SubsetRandomSampler\n",
        "from torch.utils.data.dataloader import DataLoader"
      ],
      "execution_count": 0,
      "outputs": []
    },
    {
      "cell_type": "code",
      "metadata": {
        "id": "OniHZj6uXdbj",
        "colab_type": "code",
        "colab": {}
      },
      "source": [
        "batch_size =100\n",
        "train_sampler = SubsetRandomSampler(train_indices)\n",
        "train_loader = DataLoader(dataset,batch_size,sampler=train_sampler)\n",
        "\n",
        "val_sampler = SubsetRandomSampler(val_indices)\n",
        "val_loader = DataLoader(dataset,batch_size,sampler=val_sampler)"
      ],
      "execution_count": 0,
      "outputs": []
    },
    {
      "cell_type": "code",
      "metadata": {
        "id": "kyl64nNeXdbo",
        "colab_type": "code",
        "outputId": "8c2a119d-e2c7-4828-a898-bcb972377a13",
        "colab": {
          "base_uri": "https://localhost:8080/",
          "height": 34
        }
      },
      "source": [
        "train_loader"
      ],
      "execution_count": 0,
      "outputs": [
        {
          "output_type": "execute_result",
          "data": {
            "text/plain": [
              "<torch.utils.data.dataloader.DataLoader at 0x7f7fdbf56470>"
            ]
          },
          "metadata": {
            "tags": []
          },
          "execution_count": 22
        }
      ]
    },
    {
      "cell_type": "code",
      "metadata": {
        "id": "f7BmoYHlXdbt",
        "colab_type": "code",
        "outputId": "968a3ce1-8954-4451-9966-74f803c22cc9",
        "colab": {
          "base_uri": "https://localhost:8080/",
          "height": 34
        }
      },
      "source": [
        "input_size = 28*28\n",
        "num_classes =10\n",
        "#Logistic regression Model\n",
        "model =  nn.Linear(input_size,num_classes)\n",
        "print(model.weight.shape)"
      ],
      "execution_count": 0,
      "outputs": [
        {
          "output_type": "stream",
          "text": [
            "torch.Size([10, 784])\n"
          ],
          "name": "stdout"
        }
      ]
    },
    {
      "cell_type": "code",
      "metadata": {
        "id": "I_9Dre07Xdby",
        "colab_type": "code",
        "outputId": "ec7273a5-6f5c-47c3-bb3d-162c0a76f24c",
        "colab": {
          "base_uri": "https://localhost:8080/",
          "height": 118
        }
      },
      "source": [
        "for images ,labels in train_loader:\n",
        "    print(labels) \n",
        "    print(images.shape)\n",
        "   # outputs = model(images)\n",
        "    break"
      ],
      "execution_count": 0,
      "outputs": [
        {
          "output_type": "stream",
          "text": [
            "tensor([6, 7, 5, 0, 3, 6, 8, 0, 4, 8, 4, 6, 0, 3, 0, 6, 0, 8, 1, 8, 2, 6, 7, 3,\n",
            "        9, 0, 8, 0, 8, 7, 7, 1, 7, 4, 2, 4, 1, 6, 7, 8, 0, 9, 4, 5, 4, 4, 5, 0,\n",
            "        9, 9, 0, 2, 7, 0, 9, 6, 3, 7, 3, 1, 5, 5, 6, 7, 5, 5, 6, 8, 9, 3, 6, 7,\n",
            "        3, 5, 7, 5, 6, 8, 4, 8, 4, 3, 9, 6, 1, 7, 8, 6, 9, 5, 3, 8, 7, 5, 4, 3,\n",
            "        8, 2, 0, 6])\n",
            "torch.Size([100, 1, 28, 28])\n"
          ],
          "name": "stdout"
        }
      ]
    },
    {
      "cell_type": "code",
      "metadata": {
        "id": "HwUS6BqvXdb4",
        "colab_type": "code",
        "colab": {}
      },
      "source": [
        "#To reshape the model inputs and add linear layer of input_size and num_classes\n",
        "class MnistModel(nn.Module):\n",
        "    def __init__(self):\n",
        "        super().__init__()\n",
        "        self.linear = nn.Linear(input_size,num_classes)\n",
        "    def forward(self,xb):\n",
        "        xb = xb.reshape(-1,784)\n",
        "        out = self.linear(xb)\n",
        "        return out\n",
        "model = MnistModel()"
      ],
      "execution_count": 0,
      "outputs": []
    },
    {
      "cell_type": "code",
      "metadata": {
        "id": "zngRc11DXdb-",
        "colab_type": "code",
        "outputId": "34823030-325c-41ea-ad5b-f79811de3712",
        "colab": {
          "base_uri": "https://localhost:8080/",
          "height": 235
        }
      },
      "source": [
        "print(model.linear.weight.shape)\n",
        "print(model.linear.bias.shape)\n",
        "list(model.parameters())"
      ],
      "execution_count": 0,
      "outputs": [
        {
          "output_type": "stream",
          "text": [
            "torch.Size([10, 784])\n",
            "torch.Size([10])\n"
          ],
          "name": "stdout"
        },
        {
          "output_type": "execute_result",
          "data": {
            "text/plain": [
              "[Parameter containing:\n",
              " tensor([[-0.0031,  0.0197,  0.0221,  ...,  0.0233,  0.0112, -0.0327],\n",
              "         [-0.0316, -0.0234, -0.0246,  ...,  0.0355, -0.0355,  0.0297],\n",
              "         [ 0.0329, -0.0086,  0.0128,  ..., -0.0138,  0.0098,  0.0165],\n",
              "         ...,\n",
              "         [ 0.0200,  0.0151, -0.0131,  ..., -0.0296,  0.0062,  0.0053],\n",
              "         [-0.0321, -0.0094,  0.0324,  ...,  0.0039, -0.0009,  0.0265],\n",
              "         [ 0.0160,  0.0255, -0.0059,  ..., -0.0034,  0.0318, -0.0237]],\n",
              "        requires_grad=True), Parameter containing:\n",
              " tensor([-0.0200,  0.0220,  0.0205, -0.0066, -0.0096,  0.0284,  0.0162,  0.0091,\n",
              "         -0.0187, -0.0335], requires_grad=True)]"
            ]
          },
          "metadata": {
            "tags": []
          },
          "execution_count": 26
        }
      ]
    },
    {
      "cell_type": "code",
      "metadata": {
        "id": "6THLxEV0XdcE",
        "colab_type": "code",
        "outputId": "f9764452-acc6-437d-d6e9-323b1f70e517",
        "colab": {
          "base_uri": "https://localhost:8080/",
          "height": 1000
        }
      },
      "source": [
        "for images,labels in train_loader:\n",
        "    outputs = model(images)\n",
        "    break\n",
        "outputs.shape\n",
        "outputs"
      ],
      "execution_count": 0,
      "outputs": [
        {
          "output_type": "execute_result",
          "data": {
            "text/plain": [
              "tensor([[-2.3183e-01,  2.5606e-02, -1.6200e-03,  5.5915e-02, -8.1933e-02,\n",
              "         -1.9922e-01,  1.7170e-01,  4.3327e-02,  5.9919e-02,  7.4960e-02],\n",
              "        [-4.8635e-02,  2.2739e-01, -1.0606e-02, -1.8538e-02,  1.0549e-01,\n",
              "         -2.2318e-02,  8.2267e-02, -1.2785e-01,  4.2300e-02, -4.8925e-03],\n",
              "        [-5.2207e-01, -6.0492e-02,  7.7006e-02, -1.8803e-01,  3.4577e-02,\n",
              "          1.5206e-02,  3.0143e-01, -3.0654e-03, -3.3542e-01,  2.5065e-01],\n",
              "        [-3.8156e-01,  6.1514e-02,  2.9408e-01, -1.1829e-01, -1.0448e-01,\n",
              "         -3.3013e-01,  2.9748e-02, -5.0072e-02, -1.2297e-01, -4.2717e-02],\n",
              "        [-7.7722e-02,  1.6866e-02, -2.2859e-01, -2.6202e-01,  1.0272e-01,\n",
              "         -8.3989e-02, -1.6072e-01, -1.5874e-01,  3.0501e-02,  4.2922e-02],\n",
              "        [-1.1943e-01, -8.1246e-03, -4.9414e-02, -1.4497e-01, -1.0203e-01,\n",
              "         -1.6685e-01,  4.5879e-02,  9.6074e-03,  3.5221e-02,  1.1619e-01],\n",
              "        [-3.0165e-01,  1.2945e-01, -1.3110e-01, -2.9738e-01,  8.3352e-02,\n",
              "         -4.6506e-01, -1.1136e-01, -3.9408e-02, -2.0782e-02,  1.5057e-01],\n",
              "        [-1.0685e-01,  2.9856e-02,  4.1428e-02, -1.3550e-01,  1.6678e-01,\n",
              "          3.1869e-02,  6.6623e-02, -1.2001e-01, -1.3946e-01, -1.5558e-01],\n",
              "        [-2.6401e-01,  2.1427e-02, -8.3328e-02, -1.2181e-01,  6.8671e-02,\n",
              "          1.3586e-01, -2.2339e-01, -1.2615e-01, -1.3966e-01,  9.8512e-02],\n",
              "        [-1.3311e-01,  2.2665e-02, -4.9094e-02, -2.2613e-01,  1.2413e-01,\n",
              "         -1.3778e-01, -2.7594e-01, -2.9154e-01, -1.6535e-02,  1.7304e-02],\n",
              "        [-4.5156e-02, -3.9337e-02,  2.0418e-01, -4.8542e-01,  2.5170e-01,\n",
              "         -1.0271e-01, -9.9010e-02, -2.1378e-01,  4.2970e-02, -1.4808e-03],\n",
              "        [-4.2554e-01, -1.6752e-01,  7.7173e-02,  1.7167e-02, -4.3733e-03,\n",
              "          1.7488e-01,  7.0822e-02, -2.6742e-01, -6.7447e-02,  1.7360e-01],\n",
              "        [ 1.3307e-01,  3.3773e-02,  3.2539e-02, -2.0201e-01, -1.0190e-02,\n",
              "         -8.4910e-02, -1.1646e-01, -4.8978e-02, -5.5992e-02,  1.2016e-01],\n",
              "        [-8.2807e-02,  1.8119e-01,  1.9511e-01, -1.5959e-01,  1.3652e-01,\n",
              "         -1.2145e-01, -1.6414e-02, -1.3501e-01, -2.7562e-02, -4.4266e-02],\n",
              "        [-7.4353e-01,  2.4321e-01,  2.9748e-01,  2.2192e-02,  1.2527e-01,\n",
              "         -5.4369e-02,  1.5790e-02, -3.0574e-01, -5.7640e-03,  3.4634e-01],\n",
              "        [-4.0425e-01,  2.6679e-01, -7.1479e-02,  2.2761e-01, -6.6880e-02,\n",
              "         -1.8035e-01,  3.1049e-01, -1.7120e-01,  2.1762e-01,  6.4296e-02],\n",
              "        [-5.5582e-01, -8.1187e-03,  9.2745e-02, -1.1560e-01, -3.3858e-02,\n",
              "         -1.3054e-01, -1.6135e-02, -1.5074e-01, -1.4123e-01,  3.3578e-02],\n",
              "        [-6.3952e-01,  6.1983e-02,  1.7789e-01, -3.7631e-02,  1.3976e-01,\n",
              "         -2.4380e-01,  2.5661e-02, -3.7589e-01, -1.3765e-01,  2.3599e-01],\n",
              "        [-2.1384e-01,  1.1547e-01,  2.6368e-02, -2.6340e-01, -1.0131e-01,\n",
              "         -1.4785e-01, -2.0179e-02, -1.2752e-01,  1.1985e-01,  1.7155e-01],\n",
              "        [-1.8679e-01,  2.8157e-01,  9.8769e-03, -7.4855e-02,  1.1615e-01,\n",
              "         -1.7321e-01,  1.1177e-01, -7.2833e-02,  3.1516e-02,  1.2832e-02],\n",
              "        [-1.2365e-01, -2.1631e-02,  1.2328e-01,  1.8963e-02,  2.9042e-01,\n",
              "         -3.6582e-02,  3.9863e-02, -3.4037e-01,  9.9599e-02, -8.8603e-02],\n",
              "        [-7.8557e-02,  7.0556e-02, -2.6834e-02, -2.4097e-01,  4.6287e-02,\n",
              "         -1.1793e-01, -1.5297e-02, -1.0548e-01, -7.8142e-02,  9.9300e-02],\n",
              "        [-1.5740e-01,  1.3716e-01, -1.6446e-02, -7.8045e-02, -1.1533e-01,\n",
              "         -1.1247e-02,  1.0016e-01,  1.8515e-02, -3.3122e-02,  8.5160e-02],\n",
              "        [-2.2585e-01,  5.0056e-02, -5.9213e-02, -3.6714e-01,  1.5704e-01,\n",
              "          1.1450e-02, -1.5079e-01, -3.7982e-01, -2.6761e-01,  6.0827e-02],\n",
              "        [-4.5101e-01, -2.0013e-02,  1.4162e-02, -1.4931e-01, -2.3372e-02,\n",
              "          2.1168e-01, -1.3010e-01, -1.7283e-01, -5.9104e-02,  3.3227e-02],\n",
              "        [-1.8655e-01,  2.7482e-01, -6.4189e-02, -6.7863e-02,  1.1418e-01,\n",
              "         -2.7681e-01,  5.8217e-02, -1.2543e-01,  5.1815e-02,  3.9289e-02],\n",
              "        [-9.0156e-02, -2.8812e-01,  2.2316e-01, -2.7441e-01, -9.9435e-02,\n",
              "          3.0945e-02,  5.4206e-02, -1.2351e-01, -2.5793e-01,  1.4766e-01],\n",
              "        [-2.6719e-01, -8.2917e-03,  6.2263e-02, -2.5583e-01,  1.8454e-01,\n",
              "         -5.4071e-02,  1.9537e-01, -1.7668e-01,  2.8987e-02,  2.0724e-02],\n",
              "        [-2.9790e-02, -9.6168e-02,  9.4637e-02, -1.3652e-01,  1.8327e-02,\n",
              "          1.2230e-02,  1.3104e-01, -1.2884e-02, -8.1068e-02, -2.4653e-01],\n",
              "        [-2.9571e-01, -4.0591e-02,  3.0683e-02, -1.9571e-01,  1.5076e-01,\n",
              "         -6.1613e-02,  1.4960e-01, -2.7893e-01, -4.1634e-02,  8.8322e-02],\n",
              "        [-4.6810e-01,  3.6192e-01,  9.4098e-02, -2.0079e-01,  1.6980e-01,\n",
              "         -3.8990e-01,  3.2372e-01, -2.1939e-01, -7.5302e-02,  1.2697e-01],\n",
              "        [-8.6605e-01,  1.2940e-01,  3.9384e-01,  1.2810e-01, -1.4173e-01,\n",
              "         -4.5065e-01,  3.9918e-01, -1.9001e-02, -1.2319e-01,  4.2284e-01],\n",
              "        [-1.7108e-01,  2.2633e-01,  1.2912e-01, -1.8552e-01,  1.9706e-01,\n",
              "          2.9429e-02,  1.4176e-01, -3.0759e-01, -7.7566e-03,  1.6285e-02],\n",
              "        [-4.3842e-01,  2.2411e-01, -4.0680e-02, -2.2333e-01, -1.4961e-01,\n",
              "         -1.1492e-01,  4.7965e-02, -9.7906e-02, -7.4120e-02,  3.5112e-01],\n",
              "        [-4.2288e-01,  2.6377e-01,  8.6243e-02,  7.2660e-02,  6.1225e-02,\n",
              "         -1.4816e-01,  1.1711e-01, -4.5846e-01,  2.7339e-02,  2.7116e-01],\n",
              "        [-1.9051e-01,  2.5971e-01,  1.0914e-01, -1.2780e-01, -5.6181e-02,\n",
              "         -1.1987e-01,  4.6215e-02, -3.3505e-01, -8.7403e-02,  3.6153e-01],\n",
              "        [-1.0276e-01,  1.3594e-01,  2.5666e-01, -1.6687e-01,  2.4737e-01,\n",
              "          2.3855e-02, -2.8329e-02, -3.3764e-01, -5.7365e-02, -3.0714e-02],\n",
              "        [-1.8296e-01,  2.8501e-02, -1.1459e-01,  2.7308e-02, -7.6490e-03,\n",
              "         -6.1868e-02,  1.0346e-01,  1.3572e-01, -1.2116e-02,  1.3907e-02],\n",
              "        [-1.4895e-01,  1.6569e-01,  2.6911e-01,  4.9815e-02,  2.0927e-01,\n",
              "         -7.4852e-02,  1.9528e-01, -2.8768e-01, -6.0924e-02, -1.4914e-01],\n",
              "        [-1.8062e-01,  9.6248e-02,  1.0767e-01,  8.4076e-02,  5.9506e-02,\n",
              "         -1.8524e-01, -5.9393e-02, -3.0020e-01, -1.0925e-01,  5.1210e-02],\n",
              "        [-3.1795e-01, -2.0127e-01, -6.0998e-02, -2.8034e-01, -2.6211e-01,\n",
              "         -1.7730e-01,  1.3473e-01, -1.3096e-01, -1.3557e-01,  1.0644e-01],\n",
              "        [-2.4670e-01, -6.4048e-02,  1.4157e-01, -1.0215e-01,  9.3489e-02,\n",
              "         -3.0534e-01,  1.8923e-01, -3.3156e-01, -2.7140e-01, -8.2139e-03],\n",
              "        [-2.6076e-01,  1.4630e-02,  2.6564e-01,  9.0096e-02, -2.1268e-01,\n",
              "         -9.0845e-02,  4.3976e-02, -7.9543e-02, -7.2908e-02,  4.0280e-01],\n",
              "        [-2.2532e-01,  1.8647e-01, -7.2164e-02, -3.1476e-01,  1.4154e-01,\n",
              "         -3.4875e-01, -5.0084e-03, -3.2541e-01, -2.3871e-01,  1.1529e-01],\n",
              "        [-3.7453e-01, -5.0977e-02,  1.1394e-01, -2.3378e-01,  2.0754e-02,\n",
              "         -1.5383e-01,  3.0971e-01,  7.3740e-02, -9.4571e-02, -1.1721e-01],\n",
              "        [-2.5541e-02,  1.0352e-02,  1.5284e-01, -1.7960e-01,  2.8281e-03,\n",
              "         -1.4907e-01, -7.7729e-02,  2.1967e-02,  4.1993e-02, -6.8902e-02],\n",
              "        [-3.5586e-01, -8.4536e-02,  1.6272e-02, -6.9543e-02, -2.5434e-01,\n",
              "         -2.5551e-01,  4.0914e-02, -3.0161e-01, -2.2248e-02,  2.9185e-01],\n",
              "        [-2.1144e-01,  1.7125e-01, -6.2404e-02,  9.7464e-03, -5.5420e-02,\n",
              "         -4.8922e-02,  1.9057e-02,  1.4426e-01,  1.3459e-01, -2.7630e-02],\n",
              "        [-3.4883e-01,  7.8686e-03,  1.2998e-01, -4.1189e-02, -7.8608e-02,\n",
              "         -1.4287e-01, -1.5612e-01, -4.6680e-01,  1.4709e-01,  1.4302e-01],\n",
              "        [-1.1901e-01,  1.5623e-01, -2.3893e-03, -7.7123e-02, -8.5311e-02,\n",
              "         -5.4508e-02,  8.5257e-02,  6.1642e-02, -3.5958e-02,  1.9157e-01],\n",
              "        [-5.5162e-02,  1.6150e-01, -7.0716e-02,  1.3206e-02, -2.8422e-02,\n",
              "          1.9687e-01, -2.7107e-02, -2.8279e-01, -3.5826e-02, -1.5767e-01],\n",
              "        [-1.2734e-01, -1.7651e-01,  1.2124e-01,  7.5785e-03, -2.0295e-01,\n",
              "         -5.2810e-02,  1.6285e-01,  5.0297e-01, -1.4959e-01,  3.2820e-01],\n",
              "        [-4.4244e-01,  7.6673e-02, -4.0758e-02, -3.2444e-01,  2.5380e-02,\n",
              "          2.5003e-01,  2.4790e-01, -3.5986e-02,  2.3594e-02, -1.5458e-02],\n",
              "        [-4.8142e-01,  1.7235e-01,  1.2223e-01, -1.0473e-01,  1.9817e-02,\n",
              "         -5.0515e-01,  8.9197e-02, -4.4281e-01, -7.3370e-02,  8.9350e-02],\n",
              "        [-4.2574e-01,  2.2263e-01,  1.4422e-01, -2.5840e-01,  3.1578e-01,\n",
              "         -1.8129e-01,  7.9038e-02, -4.6306e-02, -2.0141e-01,  9.2266e-03],\n",
              "        [-4.6703e-01, -3.2734e-01,  1.1415e-01, -4.5592e-01,  6.4941e-02,\n",
              "          6.3025e-02,  6.5259e-02, -1.2355e-01, -1.1730e-01, -3.9228e-02],\n",
              "        [-7.4445e-01,  1.4742e-01,  3.0755e-01,  8.1740e-03,  3.1305e-01,\n",
              "         -1.3168e-01,  3.7414e-01, -2.4577e-01, -4.7391e-02,  1.9692e-01],\n",
              "        [-8.0715e-01,  3.2156e-01,  2.9406e-01,  3.4603e-02,  4.9732e-02,\n",
              "         -5.0453e-01,  3.5987e-01, -1.7880e-01, -1.0457e-01,  4.9490e-01],\n",
              "        [-5.2501e-01, -2.3832e-01, -9.4651e-03,  2.7209e-03,  4.0590e-02,\n",
              "          1.2382e-01,  1.9974e-01, -2.0437e-01,  4.8465e-02,  4.4303e-03],\n",
              "        [-1.6317e-01,  1.0828e-01,  6.5781e-03, -2.0964e-04, -7.3354e-02,\n",
              "         -3.5971e-01,  9.8502e-02, -3.2718e-01, -4.9288e-02,  2.3754e-01],\n",
              "        [-7.3842e-01,  3.3586e-02,  2.2621e-01, -4.1960e-01, -6.5699e-02,\n",
              "         -5.3307e-01,  4.5698e-01,  1.5798e-02, -4.7358e-02,  4.9556e-01],\n",
              "        [-3.0666e-01,  1.5664e-01,  2.3867e-01,  1.3363e-01, -9.7813e-02,\n",
              "          5.2682e-02,  9.1507e-02, -3.1911e-01, -1.3992e-01,  1.9318e-01],\n",
              "        [-7.0533e-02,  3.8197e-02,  1.4370e-02, -1.4778e-01,  9.1818e-03,\n",
              "         -1.1687e-01, -4.6342e-02, -9.2926e-02,  5.9486e-03,  1.2195e-01],\n",
              "        [-1.6526e-01,  3.2279e-02,  2.3575e-02, -9.0680e-02, -7.5256e-03,\n",
              "         -1.0769e-01, -2.6944e-02, -2.5014e-02,  4.9772e-02,  3.8949e-02],\n",
              "        [-9.4191e-02,  4.3730e-02, -5.9499e-02, -2.2342e-01,  2.7294e-02,\n",
              "         -2.2741e-01, -5.0973e-02, -9.7261e-02, -7.1027e-02,  1.0486e-01],\n",
              "        [-1.1407e-01,  3.6542e-02,  1.0330e-01,  9.4568e-03, -1.6623e-01,\n",
              "          7.4180e-03, -1.3390e-01,  1.8255e-03, -1.2741e-01, -1.5851e-01],\n",
              "        [-3.7728e-01, -1.6661e-01,  3.6861e-02,  5.5773e-02,  6.2373e-04,\n",
              "          4.6425e-02,  8.5885e-02, -1.2770e-01, -2.6344e-02,  9.2731e-03],\n",
              "        [-5.4232e-01, -1.3443e-01,  1.1308e-01, -3.1213e-01,  1.2981e-02,\n",
              "          9.9253e-02,  9.3053e-02,  5.8899e-02, -1.9019e-01, -1.3521e-02],\n",
              "        [-4.0217e-01, -6.0588e-02, -6.3664e-02, -2.2269e-01,  9.8405e-02,\n",
              "          1.4767e-01,  1.3367e-01, -3.6771e-01,  9.5143e-02,  4.2477e-01],\n",
              "        [-2.9226e-01,  8.8846e-02,  1.3818e-01, -2.6877e-01,  1.6267e-01,\n",
              "         -3.3748e-01,  6.6105e-02, -4.8379e-01, -1.4077e-01,  2.3421e-01],\n",
              "        [-2.7385e-01,  5.4452e-02,  4.3365e-02, -1.5782e-01, -1.2021e-01,\n",
              "         -1.5689e-01,  7.9144e-02, -8.5145e-02, -3.2485e-01, -4.3156e-02],\n",
              "        [-3.1256e-01, -8.7696e-02,  1.6525e-02, -1.5068e-01, -4.7237e-02,\n",
              "         -1.4172e-01,  1.4391e-01, -5.5713e-03, -7.4569e-02,  1.7350e-01],\n",
              "        [-1.4151e-01,  1.6651e-01,  9.8731e-02,  5.4833e-02,  4.3970e-02,\n",
              "         -7.2460e-02,  7.9440e-02, -1.5165e-01, -1.9990e-02,  5.7327e-02],\n",
              "        [-1.1958e-01,  2.2654e-01,  2.3535e-01, -2.5762e-01, -1.3984e-01,\n",
              "         -3.1422e-01,  4.3443e-02,  2.1866e-01, -1.0725e-01,  1.8774e-01],\n",
              "        [-3.0808e-01,  1.1680e-01,  1.1101e-01, -1.0952e-01,  2.2919e-01,\n",
              "         -1.6647e-02, -2.1059e-01, -4.4882e-01,  7.4354e-02, -2.3120e-02],\n",
              "        [-2.5976e-01,  3.4354e-02,  1.6590e-01, -4.0428e-01,  6.7167e-02,\n",
              "         -3.1554e-01,  8.9171e-03, -1.5912e-01, -2.4921e-01,  1.5690e-01],\n",
              "        [-1.0169e-01,  9.9096e-02, -8.9732e-02, -2.8595e-01,  2.5485e-02,\n",
              "         -7.9858e-02,  2.9568e-01,  5.6249e-02, -2.0379e-01, -2.8744e-02],\n",
              "        [-3.4323e-01, -2.1625e-01,  8.4871e-02, -3.4481e-02,  6.9491e-02,\n",
              "         -1.7276e-01, -5.3191e-02, -1.6834e-01,  8.9145e-03,  9.8998e-02],\n",
              "        [-4.9809e-01, -1.1890e-01, -1.5379e-01,  4.4281e-03, -6.6906e-02,\n",
              "         -1.6150e-01,  1.9001e-01, -1.7890e-01, -7.5286e-02,  1.2677e-01],\n",
              "        [-6.1553e-02,  1.0616e-01, -3.8516e-02, -6.7580e-02, -2.0655e-02,\n",
              "          3.5275e-02,  3.7870e-02,  6.3058e-02, -8.6998e-02,  8.8974e-02],\n",
              "        [-3.6548e-01,  6.6532e-02, -4.8261e-03, -4.1791e-01, -2.0432e-01,\n",
              "         -2.9850e-01,  2.2402e-01, -1.5703e-02, -2.2244e-01,  1.0198e-01],\n",
              "        [-4.2642e-01,  1.9139e-02,  1.9857e-01, -3.0707e-02,  1.8139e-02,\n",
              "         -2.4241e-01,  8.4898e-02, -8.4826e-02,  2.1492e-02,  1.5573e-01],\n",
              "        [-3.1705e-01,  1.5973e-01,  2.3962e-01, -4.3393e-01, -1.2597e-01,\n",
              "         -4.2268e-01,  1.9254e-01,  1.2069e-01, -4.8511e-02,  2.7024e-01],\n",
              "        [-2.1910e-01,  1.5673e-01,  1.5801e-01, -2.3117e-01,  4.0354e-01,\n",
              "         -1.2856e-01, -5.1231e-02, -1.6962e-01, -1.7900e-01,  5.2345e-02],\n",
              "        [-3.3895e-01, -4.8397e-02,  4.2589e-02, -1.8738e-01,  3.3870e-01,\n",
              "         -1.6220e-02, -3.1397e-02, -1.8150e-01,  1.0775e-01,  8.5501e-02],\n",
              "        [ 1.1981e-04, -1.6289e-02,  9.2424e-02, -9.1890e-02,  1.0494e-01,\n",
              "          1.4666e-03, -6.1471e-02, -5.6657e-02,  3.3294e-02, -1.3362e-01],\n",
              "        [-2.3733e-01, -5.2442e-03, -1.5861e-01, -1.1223e-01, -1.1551e-01,\n",
              "         -1.1621e-01,  7.8613e-02, -6.5542e-02,  8.8143e-02,  1.4086e-01],\n",
              "        [-1.2851e-01,  1.0937e-01,  2.5435e-02, -3.7240e-02, -1.1572e-01,\n",
              "          4.0061e-02,  3.7644e-02,  2.4082e-02, -8.0695e-02,  9.0348e-02],\n",
              "        [-4.2764e-01,  2.4284e-01,  2.3490e-01,  9.6911e-02,  1.9293e-01,\n",
              "         -3.0906e-01,  9.8922e-02, -9.7548e-02, -8.0622e-02,  9.4882e-02],\n",
              "        [-3.6253e-01,  2.9613e-02,  1.7958e-01, -1.5455e-01, -4.1430e-02,\n",
              "          2.2193e-02, -5.7985e-02, -4.3964e-01, -6.5459e-02,  2.7069e-01],\n",
              "        [-4.8505e-01,  2.4513e-01,  2.5186e-01, -2.9678e-02,  1.5412e-01,\n",
              "         -3.4270e-02, -7.4511e-02, -2.8401e-01, -1.1762e-01, -2.3843e-01],\n",
              "        [-3.6827e-01,  2.6827e-01,  3.6357e-02, -1.3421e-02,  9.3942e-02,\n",
              "         -1.8363e-01, -1.8225e-02, -2.0058e-01,  2.2982e-01, -1.3239e-02],\n",
              "        [-4.2864e-01,  5.6663e-01,  2.2647e-01,  1.5521e-01,  1.1923e-01,\n",
              "         -4.2698e-01,  5.6589e-03,  1.2517e-02,  4.2123e-02, -3.5864e-03],\n",
              "        [-1.1647e-01,  2.1529e-01,  1.1145e-01, -7.5532e-02,  1.9015e-01,\n",
              "         -1.7727e-01,  2.2846e-01, -2.3852e-02,  7.5920e-02, -3.8973e-02],\n",
              "        [-2.2583e-01,  4.9794e-01,  3.3185e-01,  2.1363e-02, -1.4745e-02,\n",
              "         -3.1890e-01,  1.8775e-01, -1.4996e-01,  1.4091e-01,  2.1746e-01],\n",
              "        [-2.6908e-01, -1.2824e-02, -2.8507e-02, -2.8899e-01,  9.8867e-02,\n",
              "          1.2154e-02, -1.7121e-01, -2.6954e-01, -1.4798e-01, -9.8479e-03],\n",
              "        [-5.7278e-01, -3.6356e-01,  3.9742e-02, -2.8674e-01, -8.0796e-02,\n",
              "          9.2086e-02,  7.1979e-02, -9.3149e-02, -4.4845e-02, -1.0287e-01],\n",
              "        [-1.3505e-01,  3.1541e-02, -4.0815e-02, -3.5363e-02, -4.9875e-02,\n",
              "         -2.6791e-02,  4.1776e-02, -5.4205e-02, -7.0073e-02,  1.6739e-01],\n",
              "        [-1.7212e-01,  8.2006e-02,  1.6863e-01,  1.3998e-01,  5.3716e-02,\n",
              "         -2.6858e-01, -5.9136e-02, -9.7453e-02,  1.0614e-01,  6.3370e-02],\n",
              "        [-2.0682e-01,  5.1062e-02,  3.1877e-02, -1.2329e-01,  2.6999e-02,\n",
              "         -3.7161e-01,  1.2624e-01, -1.4845e-01,  2.9763e-01,  7.1893e-02]],\n",
              "       grad_fn=<AddmmBackward>)"
            ]
          },
          "metadata": {
            "tags": []
          },
          "execution_count": 27
        }
      ]
    },
    {
      "cell_type": "code",
      "metadata": {
        "id": "yqEsY75PXdcK",
        "colab_type": "code",
        "outputId": "f6eaa05f-d9eb-448c-f6bc-3e4a393a9049",
        "colab": {
          "base_uri": "https://localhost:8080/",
          "height": 101
        }
      },
      "source": [
        "probs = F.softmax(outputs,dim=1)\n",
        "print(probs[:2])\n",
        "print('sum:' ,torch.sum(probs[2]).item())"
      ],
      "execution_count": 0,
      "outputs": [
        {
          "output_type": "stream",
          "text": [
            "tensor([[0.0794, 0.1027, 0.1000, 0.1059, 0.0923, 0.0820, 0.1189, 0.1046, 0.1063,\n",
            "         0.1079],\n",
            "        [0.0927, 0.1222, 0.0963, 0.0956, 0.1082, 0.0952, 0.1057, 0.0857, 0.1016,\n",
            "         0.0969]], grad_fn=<SliceBackward>)\n",
            "sum: 1.0000001192092896\n"
          ],
          "name": "stdout"
        }
      ]
    },
    {
      "cell_type": "code",
      "metadata": {
        "id": "74VyMdELXdcQ",
        "colab_type": "code",
        "outputId": "681ebe85-aaab-48c3-dea4-17e3ea8329a1",
        "colab": {
          "base_uri": "https://localhost:8080/",
          "height": 302
        }
      },
      "source": [
        "max_probs ,preds  =  torch.max(probs,dim=1)\n",
        "print(preds)\n",
        "print(max_probs)"
      ],
      "execution_count": 0,
      "outputs": [
        {
          "output_type": "stream",
          "text": [
            "tensor([6, 1, 6, 2, 4, 9, 9, 4, 5, 4, 4, 5, 0, 2, 9, 6, 2, 9, 9, 1, 4, 9, 1, 4,\n",
            "        5, 1, 2, 6, 6, 4, 1, 9, 1, 9, 9, 9, 2, 7, 2, 2, 6, 6, 9, 1, 6, 2, 9, 1,\n",
            "        8, 9, 5, 7, 5, 1, 4, 2, 6, 9, 6, 9, 9, 2, 9, 8, 9, 2, 6, 2, 9, 9, 6, 9,\n",
            "        1, 2, 4, 2, 6, 9, 6, 1, 6, 2, 9, 4, 4, 4, 9, 1, 1, 9, 2, 1, 1, 6, 1, 4,\n",
            "        5, 9, 2, 8])\n",
            "tensor([0.1189, 0.1222, 0.1373, 0.1425, 0.1190, 0.1163, 0.1262, 0.1213, 0.1210,\n",
            "        0.1236, 0.1326, 0.1222, 0.1160, 0.1215, 0.1365, 0.1306, 0.1200, 0.1328,\n",
            "        0.1228, 0.1306, 0.1326, 0.1150, 0.1150, 0.1295, 0.1314, 0.1325, 0.1318,\n",
            "        0.1234, 0.1174, 0.1207, 0.1423, 0.1445, 0.1228, 0.1463, 0.1293, 0.1426,\n",
            "        0.1281, 0.1149, 0.1267, 0.1153, 0.1292, 0.1301, 0.1452, 0.1317, 0.1410,\n",
            "        0.1192, 0.1453, 0.1171, 0.1233, 0.1190, 0.1242, 0.1545, 0.1288, 0.1289,\n",
            "        0.1385, 0.1240, 0.1365, 0.1538, 0.1267, 0.1315, 0.1619, 0.1247, 0.1159,\n",
            "        0.1078, 0.1179, 0.1166, 0.1132, 0.1192, 0.1518, 0.1336, 0.1185, 0.1237,\n",
            "        0.1162, 0.1244, 0.1308, 0.1274, 0.1370, 0.1176, 0.1307, 0.1103, 0.1372,\n",
            "        0.1237, 0.1315, 0.1497, 0.1413, 0.1122, 0.1203, 0.1116, 0.1241, 0.1366,\n",
            "        0.1334, 0.1308, 0.1651, 0.1197, 0.1491, 0.1220, 0.1230, 0.1199, 0.1171,\n",
            "        0.1358], grad_fn=<MaxBackward0>)\n"
          ],
          "name": "stdout"
        }
      ]
    },
    {
      "cell_type": "code",
      "metadata": {
        "id": "3JXRD4v2XdcW",
        "colab_type": "code",
        "outputId": "ab763657-6412-4b21-ecbb-3b59366eb019",
        "colab": {
          "base_uri": "https://localhost:8080/",
          "height": 101
        }
      },
      "source": [
        "print(labels)"
      ],
      "execution_count": 0,
      "outputs": [
        {
          "output_type": "stream",
          "text": [
            "tensor([2, 9, 9, 2, 6, 1, 2, 4, 9, 6, 9, 6, 1, 7, 0, 3, 2, 5, 1, 8, 9, 1, 1, 9,\n",
            "        4, 3, 4, 6, 7, 6, 8, 0, 5, 2, 0, 6, 9, 1, 7, 9, 4, 7, 0, 8, 2, 7, 6, 1,\n",
            "        8, 1, 7, 2, 2, 8, 0, 4, 0, 0, 6, 3, 2, 5, 1, 1, 1, 9, 6, 9, 6, 8, 2, 4,\n",
            "        7, 7, 9, 5, 6, 4, 6, 1, 6, 2, 7, 0, 6, 9, 2, 1, 5, 5, 8, 8, 3, 0, 3, 9,\n",
            "        4, 1, 3, 8])\n"
          ],
          "name": "stdout"
        }
      ]
    },
    {
      "cell_type": "markdown",
      "metadata": {
        "id": "KCSIvVpoXdcd",
        "colab_type": "text"
      },
      "source": [
        "# Enhance model performance by gradient "
      ]
    },
    {
      "cell_type": "code",
      "metadata": {
        "id": "015B8rf7Xdce",
        "colab_type": "code",
        "outputId": "e51d830e-f1e4-4774-e8af-7936ee6a783b",
        "colab": {
          "base_uri": "https://localhost:8080/"
        }
      },
      "source": [
        "torch.sum(labels == preds)"
      ],
      "execution_count": 0,
      "outputs": [
        {
          "output_type": "execute_result",
          "data": {
            "text/plain": [
              "tensor(16)"
            ]
          },
          "metadata": {
            "tags": []
          },
          "execution_count": 31
        }
      ]
    },
    {
      "cell_type": "code",
      "metadata": {
        "id": "DjeTVax8Xdcj",
        "colab_type": "code",
        "outputId": "ec67c39d-2596-4ce6-e94c-6ad750721324",
        "colab": {
          "base_uri": "https://localhost:8080/"
        }
      },
      "source": [
        "torch.sum(labels == preds).item()"
      ],
      "execution_count": 0,
      "outputs": [
        {
          "output_type": "execute_result",
          "data": {
            "text/plain": [
              "16"
            ]
          },
          "metadata": {
            "tags": []
          },
          "execution_count": 32
        }
      ]
    },
    {
      "cell_type": "code",
      "metadata": {
        "id": "e76nEpR9Xdco",
        "colab_type": "code",
        "colab": {}
      },
      "source": [
        "def accuracy(labels,preds):\n",
        "    return torch.sum(labels == preds).item()/len(labels)"
      ],
      "execution_count": 0,
      "outputs": []
    },
    {
      "cell_type": "code",
      "metadata": {
        "id": "JVkiVDagXdct",
        "colab_type": "code",
        "outputId": "52e6c2e5-6df9-443f-dd94-38f2ae02aba0",
        "colab": {
          "base_uri": "https://localhost:8080/"
        }
      },
      "source": [
        "accuracy(labels,preds)"
      ],
      "execution_count": 0,
      "outputs": [
        {
          "output_type": "execute_result",
          "data": {
            "text/plain": [
              "0.16"
            ]
          },
          "metadata": {
            "tags": []
          },
          "execution_count": 34
        }
      ]
    },
    {
      "cell_type": "code",
      "metadata": {
        "id": "dNtXGKfBXdcy",
        "colab_type": "code",
        "colab": {}
      },
      "source": [
        "loss_fn = F.cross_entropy"
      ],
      "execution_count": 0,
      "outputs": []
    },
    {
      "cell_type": "code",
      "metadata": {
        "id": "51YUBb_rXdc2",
        "colab_type": "code",
        "colab": {}
      },
      "source": [
        "#Loss"
      ],
      "execution_count": 0,
      "outputs": []
    },
    {
      "cell_type": "code",
      "metadata": {
        "id": "5F0Y2IOtXdc6",
        "colab_type": "code",
        "outputId": "ab655474-7798-4162-ce65-4f23aaf9a93b",
        "colab": {
          "base_uri": "https://localhost:8080/"
        }
      },
      "source": [
        "loss = loss_fn(outputs,labels)\n",
        "loss"
      ],
      "execution_count": 0,
      "outputs": [
        {
          "output_type": "execute_result",
          "data": {
            "text/plain": [
              "tensor(2.3099, grad_fn=<NllLossBackward>)"
            ]
          },
          "metadata": {
            "tags": []
          },
          "execution_count": 37
        }
      ]
    },
    {
      "cell_type": "code",
      "metadata": {
        "id": "98hbNWjFXddB",
        "colab_type": "code",
        "colab": {}
      },
      "source": [
        "learning_rate = 0.001\n",
        "optimizer = torch.optim.SGD(model.parameters(),lr = learning_rate)"
      ],
      "execution_count": 0,
      "outputs": []
    },
    {
      "cell_type": "code",
      "metadata": {
        "id": "xW4sKUdbXddG",
        "colab_type": "code",
        "colab": {}
      },
      "source": [
        "#Main function\n",
        "def loss_batch(model,loss_func ,xb,yb,opt=None,metric=None):\n",
        "    preds = model(xb)\n",
        "    loss = loss_func(preds,yb)\n",
        "    \n",
        "    if opt is not None:\n",
        "        loss.backward()\n",
        "        opt.step()\n",
        "        opt.zero_grad()\n",
        "        \n",
        "    metric_result = None\n",
        "    \n",
        "    if metric is not None:\n",
        "        metric_result = metric(preds,yb)\n",
        "    \n",
        "    return loss.item(),len(xb),metric_result\n",
        "        "
      ],
      "execution_count": 0,
      "outputs": []
    },
    {
      "cell_type": "code",
      "metadata": {
        "id": "REU6VAvYXddK",
        "colab_type": "code",
        "colab": {}
      },
      "source": [
        "#for validation set\n",
        "def evaluate(model,loss_fn ,valid_dl,metric=None):\n",
        "    with torch.no_grad():\n",
        "        #pass each batch through model\n",
        "        results = [loss_batch(model ,loss_fn,xb ,yb,metric=metric) \n",
        "                   for xb,yb in valid_dl ]\n",
        "        #separate losses,counts and metrices\n",
        "        losses,nums,metrics = zip(*results)\n",
        "        #total size of dataset\n",
        "        total = np.sum(nums)\n",
        "        avg_loss = np.sum(np.multiply(losses,nums))/total\n",
        "        avg_metric = None\n",
        "        if metric is not None:\n",
        "            avg_metric = np.sum(np.multiply(metrics,nums))/total\n",
        "        return avg_loss ,total ,avg_metric"
      ],
      "execution_count": 0,
      "outputs": []
    },
    {
      "cell_type": "code",
      "metadata": {
        "id": "sWRVwYdXXddT",
        "colab_type": "code",
        "colab": {}
      },
      "source": [
        "def accuracy(outputs,labels):\n",
        "    _,preds = torch.max(outputs ,dim=1)\n",
        "    return torch.sum(preds==labels).item()/len(preds)"
      ],
      "execution_count": 0,
      "outputs": []
    },
    {
      "cell_type": "code",
      "metadata": {
        "id": "mloZf0HxXdde",
        "colab_type": "code",
        "outputId": "d39a8438-b2f0-41b6-e349-be8bde6785cc",
        "colab": {
          "base_uri": "https://localhost:8080/"
        }
      },
      "source": [
        "val_loss, total,val_acc = evaluate(model,loss_fn,val_loader,metric=accuracy)\n",
        "print('Loss:{:.4f},accuracy:{:.4f}'.format(val_loss,val_acc))"
      ],
      "execution_count": 0,
      "outputs": [
        {
          "output_type": "stream",
          "text": [
            "Loss:2.3284,accuracy:0.1252\n"
          ],
          "name": "stdout"
        }
      ]
    },
    {
      "cell_type": "code",
      "metadata": {
        "id": "198uPKlGXddl",
        "colab_type": "code",
        "colab": {}
      },
      "source": [
        "def fit(epochs, model, loss_fn, opt, train_dl , valid_dl, metric=None):\n",
        "    for epoch in range(epochs):\n",
        "        #training\n",
        "        for xb,yb in train_dl:\n",
        "            loss,_,_ = loss_batch(model,loss_fn,xb,yb,opt)\n",
        "        #evaluation\n",
        "        result = evaluate(model,loss_fn,valid_dl,metric)\n",
        "        val_loss,total,val_metric = result\n",
        "    if metric is None:\n",
        "        print('Epoch [{}/{}], Loss: {:.4f}'.format(epoch+1 ,epochs,val_loss))\n",
        "    else:\n",
        "        print('Epoch [{}/{}], Loss: {:.4f},{}:{:.4f}'.format(epoch+1 ,epochs,val_loss,metric.__name__,val_metric))\n"
      ],
      "execution_count": 0,
      "outputs": []
    },
    {
      "cell_type": "code",
      "metadata": {
        "id": "EdKXJRe3Xddr",
        "colab_type": "code",
        "colab": {}
      },
      "source": [
        "model = MnistModel()\n",
        "optimizer = torch.optim.SGD(model.parameters(),lr=learning_rate)\n"
      ],
      "execution_count": 0,
      "outputs": []
    },
    {
      "cell_type": "code",
      "metadata": {
        "id": "ZMZlxWGWXddz",
        "colab_type": "code",
        "outputId": "202ce81b-2247-467a-d0eb-f63ce199e052",
        "colab": {
          "base_uri": "https://localhost:8080/"
        }
      },
      "source": [
        "fit(5,model,F.cross_entropy,optimizer,train_loader,val_loader,accuracy)"
      ],
      "execution_count": 0,
      "outputs": [
        {
          "output_type": "stream",
          "text": [
            "Epoch [5/5], Loss: 1.1002,accuracy:0.8099\n"
          ],
          "name": "stdout"
        }
      ]
    },
    {
      "cell_type": "code",
      "metadata": {
        "id": "FCrHNVU8Xdd7",
        "colab_type": "code",
        "colab": {
          "base_uri": "https://localhost:8080/",
          "height": 34
        },
        "outputId": "a3e514ff-c036-4ef8-9766-6224c130a934"
      },
      "source": [
        "fit(5,model,F.cross_entropy,optimizer,train_loader,val_loader,accuracy)\n"
      ],
      "execution_count": 46,
      "outputs": [
        {
          "output_type": "stream",
          "text": [
            "Epoch [5/5], Loss: 0.8087,accuracy:0.8363\n"
          ],
          "name": "stdout"
        }
      ]
    },
    {
      "cell_type": "code",
      "metadata": {
        "id": "dEvyJUWmX0Rz",
        "colab_type": "code",
        "colab": {
          "base_uri": "https://localhost:8080/",
          "height": 34
        },
        "outputId": "8bf03ca8-de78-4a19-a17a-5b588a038ea7"
      },
      "source": [
        "fit(5,model,F.cross_entropy,optimizer,train_loader,val_loader,accuracy)\n"
      ],
      "execution_count": 47,
      "outputs": [
        {
          "output_type": "stream",
          "text": [
            "Epoch [5/5], Loss: 0.6840,accuracy:0.8517\n"
          ],
          "name": "stdout"
        }
      ]
    },
    {
      "cell_type": "code",
      "metadata": {
        "id": "x4q4ifgNX883",
        "colab_type": "code",
        "colab": {
          "base_uri": "https://localhost:8080/",
          "height": 34
        },
        "outputId": "e71c9f4e-143c-48d3-aae4-01be7e8e9b03"
      },
      "source": [
        "fit(5,model,F.cross_entropy,optimizer,train_loader,val_loader,accuracy)\n"
      ],
      "execution_count": 48,
      "outputs": [
        {
          "output_type": "stream",
          "text": [
            "Epoch [5/5], Loss: 0.6135,accuracy:0.8597\n"
          ],
          "name": "stdout"
        }
      ]
    },
    {
      "cell_type": "code",
      "metadata": {
        "id": "9nAFH6dTX9sj",
        "colab_type": "code",
        "colab": {
          "base_uri": "https://localhost:8080/",
          "height": 34
        },
        "outputId": "5c8630f2-6263-4f8a-da70-76d25fbe972c"
      },
      "source": [
        "fit(5,model,F.cross_entropy,optimizer,train_loader,val_loader,accuracy)\n"
      ],
      "execution_count": 49,
      "outputs": [
        {
          "output_type": "stream",
          "text": [
            "Epoch [5/5], Loss: 0.5675,accuracy:0.8664\n"
          ],
          "name": "stdout"
        }
      ]
    },
    {
      "cell_type": "code",
      "metadata": {
        "id": "62x3_iahX-jd",
        "colab_type": "code",
        "colab": {
          "base_uri": "https://localhost:8080/",
          "height": 34
        },
        "outputId": "ef6f86b9-23c6-4d7f-8818-9327fbc3cfa2"
      },
      "source": [
        "fit(50,model,F.cross_entropy,optimizer,train_loader,val_loader,accuracy)\n"
      ],
      "execution_count": 50,
      "outputs": [
        {
          "output_type": "stream",
          "text": [
            "Epoch [50/50], Loss: 0.4176,accuracy:0.8888\n"
          ],
          "name": "stdout"
        }
      ]
    },
    {
      "cell_type": "code",
      "metadata": {
        "id": "DtU_sxuNYFQx",
        "colab_type": "code",
        "colab": {}
      },
      "source": [
        "test_dataset = MNIST(root='data/',train=False ,transform =transforms.ToTensor())"
      ],
      "execution_count": 0,
      "outputs": []
    },
    {
      "cell_type": "code",
      "metadata": {
        "id": "tNHAFIvnZVYs",
        "colab_type": "code",
        "colab": {
          "base_uri": "https://localhost:8080/",
          "height": 282
        },
        "outputId": "7f3a7df2-5f6f-44f1-f5b9-70fd243f1cb2"
      },
      "source": [
        "img , label = test_dataset[0]\n",
        "plt.imshow(img[0])\n",
        "print(img.shape)"
      ],
      "execution_count": 54,
      "outputs": [
        {
          "output_type": "stream",
          "text": [
            "torch.Size([1, 28, 28])\n"
          ],
          "name": "stdout"
        },
        {
          "output_type": "display_data",
          "data": {
            "image/png": "[encoded data removed]",
            "text/plain": [
              "<Figure size 432x288 with 1 Axes>"
            ]
          },
          "metadata": {
            "tags": [],
            "needs_background": "light"
          }
        }
      ]
    },
    {
      "cell_type": "code",
      "metadata": {
        "id": "p8A3NGMrZbtf",
        "colab_type": "code",
        "colab": {
          "base_uri": "https://localhost:8080/",
          "height": 34
        },
        "outputId": "70fa2e1e-11eb-4fd5-c2ee-7bd9c9f9ad46"
      },
      "source": [
        "# to add batch no\n",
        "img.unsqueeze(0).shape"
      ],
      "execution_count": 58,
      "outputs": [
        {
          "output_type": "execute_result",
          "data": {
            "text/plain": [
              "torch.Size([1, 1, 28, 28])"
            ]
          },
          "metadata": {
            "tags": []
          },
          "execution_count": 58
        }
      ]
    },
    {
      "cell_type": "code",
      "metadata": {
        "id": "XJL5O-QyZ0Fs",
        "colab_type": "code",
        "colab": {}
      },
      "source": [
        "def predict_image(img,model):\n",
        "  xb = img.unsqueeze(0)\n",
        "  yb = model(xb)\n",
        "  _,preds = torch.max(yb,dim=1)\n",
        "  return preds[0].item()"
      ],
      "execution_count": 0,
      "outputs": []
    },
    {
      "cell_type": "code",
      "metadata": {
        "id": "qjunFRR2aJ4A",
        "colab_type": "code",
        "colab": {
          "base_uri": "https://localhost:8080/",
          "height": 282
        },
        "outputId": "3e47d5e7-78dc-4ba7-bbdb-2dbe916db6c1"
      },
      "source": [
        "img ,label = test_dataset[0]\n",
        "plt.imshow(img[0],cmap='gray')\n",
        "print('Label:',label,',Predicted:',predict_image(img,model))"
      ],
      "execution_count": 64,
      "outputs": [
        {
          "output_type": "stream",
          "text": [
            "Label: 7 ,Predicted: 7\n"
          ],
          "name": "stdout"
        },
        {
          "output_type": "display_data",
          "data": {
            "image/png": "[encoded data removed]",
            "text/plain": [
              "<Figure size 432x288 with 1 Axes>"
            ]
          },
          "metadata": {
            "tags": [],
            "needs_background": "light"
          }
        }
      ]
    },
    {
      "cell_type": "code",
      "metadata": {
        "id": "TMhNN966axf8",
        "colab_type": "code",
        "colab": {
          "base_uri": "https://localhost:8080/",
          "height": 282
        },
        "outputId": "35552e3a-04f9-4d5e-f8ea-907c130702e3"
      },
      "source": [
        "img ,label = test_dataset[230]\n",
        "plt.imshow(img[0],cmap='gray')\n",
        "print('Label:',label,',Predicted:',predict_image(img,model))"
      ],
      "execution_count": 65,
      "outputs": [
        {
          "output_type": "stream",
          "text": [
            "Label: 3 ,Predicted: 3\n"
          ],
          "name": "stdout"
        },
        {
          "output_type": "display_data",
          "data": {
            "image/png": "[encoded data removed]",
            "text/plain": [
              "<Figure size 432x288 with 1 Axes>"
            ]
          },
          "metadata": {
            "tags": [],
            "needs_background": "light"
          }
        }
      ]
    },
    {
      "cell_type": "code",
      "metadata": {
        "id": "UFMhlfbnbBD_",
        "colab_type": "code",
        "colab": {}
      },
      "source": [
        ""
      ],
      "execution_count": 0,
      "outputs": []
    }
  ]
}